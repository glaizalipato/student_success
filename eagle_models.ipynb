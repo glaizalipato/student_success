{
  "nbformat": 4,
  "nbformat_minor": 0,
  "metadata": {
    "colab": {
      "provenance": [],
      "authorship_tag": "ABX9TyMkysRarzTHgjM/Ch63Bsqe",
      "include_colab_link": true
    },
    "kernelspec": {
      "name": "python3",
      "display_name": "Python 3"
    },
    "language_info": {
      "name": "python"
    }
  },
  "cells": [
    {
      "cell_type": "markdown",
      "metadata": {
        "id": "view-in-github",
        "colab_type": "text"
      },
      "source": [
        "<a href=\"https://colab.research.google.com/github/glaizalipato/student_success/blob/main/eagle_models.ipynb\" target=\"_parent\"><img src=\"https://colab.research.google.com/assets/colab-badge.svg\" alt=\"Open In Colab\"/></a>"
      ]
    },
    {
      "cell_type": "markdown",
      "source": [
        "## Import "
      ],
      "metadata": {
        "id": "wEZw6FxF8bIF"
      }
    },
    {
      "cell_type": "code",
      "execution_count": 77,
      "metadata": {
        "id": "g-pLPxZo6N_Z"
      },
      "outputs": [],
      "source": [
        "import pandas as pd\n",
        "import numpy as np\n",
        "import matplotlib.pyplot as plt\n",
        "import seaborn as sns\n",
        "from matplotlib import rcParams\n",
        "from sklearn.model_selection import train_test_split\n",
        "from sklearn.tree import DecisionTreeClassifier\n",
        "from sklearn.metrics import classification_report,confusion_matrix\n",
        "from sklearn.ensemble import RandomForestClassifier\n"
      ]
    },
    {
      "cell_type": "code",
      "source": [
        "url ='https://raw.githubusercontent.com/plthrs/FTW-CapstoneProject-TeamEagle/main/dataset_1_combined.csv?token=GHSAT0AAAAAAB6W6AY4PEXBCSKKI7RM6VTQY7TGAHQ'\n",
        "df = pd.read_csv(url)\n",
        "df.head()"
      ],
      "metadata": {
        "colab": {
          "base_uri": "https://localhost:8080/",
          "height": 0
        },
        "id": "94sC0_nh8i7R",
        "outputId": "c24a4baa-3698-4695-c91b-c2c6acb1805b"
      },
      "execution_count": 4,
      "outputs": [
        {
          "output_type": "execute_result",
          "data": {
            "text/plain": [
              "   Unnamed: 0  Scholar_ID   Batch  Year_Graduated  Year_Disqualified  \\\n",
              "0           0   2007001.0  2007.0          2011.0                NaN   \n",
              "1           1   2007002.0  2007.0          2011.0                NaN   \n",
              "2           2   2007003.0  2007.0          2011.0                NaN   \n",
              "3           3   2009004.0  2009.0             NaN             2011.0   \n",
              "4           4   2009005.0  2009.0          2014.0                NaN   \n",
              "\n",
              "     School                    Course        Status  \\\n",
              "0  UPD Educ    Secondary/ Mathematics     Graduated   \n",
              "1       UPD                      Math     Graduated   \n",
              "2       UPD                      Math     Graduated   \n",
              "3  UPD Educ  Secondary/ Art Education  Disqualified   \n",
              "4  UPD Educ        Secondary/ Biology     Graduated   \n",
              "\n",
              "                           High_School  Average_Grade_in_HS  ...  \\\n",
              "0                                  NaN                  NaN  ...   \n",
              "1     Holy Redeemer School of Kalookan                  NaN  ...   \n",
              "2  Aurora National Science High School                  NaN  ...   \n",
              "3                UP Intergrated School                86.50  ...   \n",
              "4       Lourdes School of Mandaluyong                 88.77  ...   \n",
              "\n",
              "   Are_Both_Parents_Employed Is_Only_One_Parent_Employed   Income_Class  \\\n",
              "0                          0                           1          Lower   \n",
              "1                          0                           1           Poor   \n",
              "2                          1                           0          Lower   \n",
              "3                          0                           1   Lower_Middle   \n",
              "4                          1                           0  Middle_Middle   \n",
              "\n",
              "  Is_Poor percent_of_cutoff  Class_Poor  Class_Lower Class_Lower_Middle  \\\n",
              "0       0          0.522242           0            1                  0   \n",
              "1       1          0.120000           1            0                  0   \n",
              "2       0          0.430000           0            1                  0   \n",
              "3       0          1.067593           0            0                  1   \n",
              "4       0          1.533333           0            0                  0   \n",
              "\n",
              "   Class_Middle_Middle  Class_Upper_Middle  \n",
              "0                    0                   0  \n",
              "1                    0                   0  \n",
              "2                    0                   0  \n",
              "3                    0                   0  \n",
              "4                    1                   0  \n",
              "\n",
              "[5 rows x 40 columns]"
            ],
            "text/html": [
              "\n",
              "  <div id=\"df-8a784f04-b9cf-4c92-a470-6c9da0def253\">\n",
              "    <div class=\"colab-df-container\">\n",
              "      <div>\n",
              "<style scoped>\n",
              "    .dataframe tbody tr th:only-of-type {\n",
              "        vertical-align: middle;\n",
              "    }\n",
              "\n",
              "    .dataframe tbody tr th {\n",
              "        vertical-align: top;\n",
              "    }\n",
              "\n",
              "    .dataframe thead th {\n",
              "        text-align: right;\n",
              "    }\n",
              "</style>\n",
              "<table border=\"1\" class=\"dataframe\">\n",
              "  <thead>\n",
              "    <tr style=\"text-align: right;\">\n",
              "      <th></th>\n",
              "      <th>Unnamed: 0</th>\n",
              "      <th>Scholar_ID</th>\n",
              "      <th>Batch</th>\n",
              "      <th>Year_Graduated</th>\n",
              "      <th>Year_Disqualified</th>\n",
              "      <th>School</th>\n",
              "      <th>Course</th>\n",
              "      <th>Status</th>\n",
              "      <th>High_School</th>\n",
              "      <th>Average_Grade_in_HS</th>\n",
              "      <th>...</th>\n",
              "      <th>Are_Both_Parents_Employed</th>\n",
              "      <th>Is_Only_One_Parent_Employed</th>\n",
              "      <th>Income_Class</th>\n",
              "      <th>Is_Poor</th>\n",
              "      <th>percent_of_cutoff</th>\n",
              "      <th>Class_Poor</th>\n",
              "      <th>Class_Lower</th>\n",
              "      <th>Class_Lower_Middle</th>\n",
              "      <th>Class_Middle_Middle</th>\n",
              "      <th>Class_Upper_Middle</th>\n",
              "    </tr>\n",
              "  </thead>\n",
              "  <tbody>\n",
              "    <tr>\n",
              "      <th>0</th>\n",
              "      <td>0</td>\n",
              "      <td>2007001.0</td>\n",
              "      <td>2007.0</td>\n",
              "      <td>2011.0</td>\n",
              "      <td>NaN</td>\n",
              "      <td>UPD Educ</td>\n",
              "      <td>Secondary/ Mathematics</td>\n",
              "      <td>Graduated</td>\n",
              "      <td>NaN</td>\n",
              "      <td>NaN</td>\n",
              "      <td>...</td>\n",
              "      <td>0</td>\n",
              "      <td>1</td>\n",
              "      <td>Lower</td>\n",
              "      <td>0</td>\n",
              "      <td>0.522242</td>\n",
              "      <td>0</td>\n",
              "      <td>1</td>\n",
              "      <td>0</td>\n",
              "      <td>0</td>\n",
              "      <td>0</td>\n",
              "    </tr>\n",
              "    <tr>\n",
              "      <th>1</th>\n",
              "      <td>1</td>\n",
              "      <td>2007002.0</td>\n",
              "      <td>2007.0</td>\n",
              "      <td>2011.0</td>\n",
              "      <td>NaN</td>\n",
              "      <td>UPD</td>\n",
              "      <td>Math</td>\n",
              "      <td>Graduated</td>\n",
              "      <td>Holy Redeemer School of Kalookan</td>\n",
              "      <td>NaN</td>\n",
              "      <td>...</td>\n",
              "      <td>0</td>\n",
              "      <td>1</td>\n",
              "      <td>Poor</td>\n",
              "      <td>1</td>\n",
              "      <td>0.120000</td>\n",
              "      <td>1</td>\n",
              "      <td>0</td>\n",
              "      <td>0</td>\n",
              "      <td>0</td>\n",
              "      <td>0</td>\n",
              "    </tr>\n",
              "    <tr>\n",
              "      <th>2</th>\n",
              "      <td>2</td>\n",
              "      <td>2007003.0</td>\n",
              "      <td>2007.0</td>\n",
              "      <td>2011.0</td>\n",
              "      <td>NaN</td>\n",
              "      <td>UPD</td>\n",
              "      <td>Math</td>\n",
              "      <td>Graduated</td>\n",
              "      <td>Aurora National Science High School</td>\n",
              "      <td>NaN</td>\n",
              "      <td>...</td>\n",
              "      <td>1</td>\n",
              "      <td>0</td>\n",
              "      <td>Lower</td>\n",
              "      <td>0</td>\n",
              "      <td>0.430000</td>\n",
              "      <td>0</td>\n",
              "      <td>1</td>\n",
              "      <td>0</td>\n",
              "      <td>0</td>\n",
              "      <td>0</td>\n",
              "    </tr>\n",
              "    <tr>\n",
              "      <th>3</th>\n",
              "      <td>3</td>\n",
              "      <td>2009004.0</td>\n",
              "      <td>2009.0</td>\n",
              "      <td>NaN</td>\n",
              "      <td>2011.0</td>\n",
              "      <td>UPD Educ</td>\n",
              "      <td>Secondary/ Art Education</td>\n",
              "      <td>Disqualified</td>\n",
              "      <td>UP Intergrated School</td>\n",
              "      <td>86.50</td>\n",
              "      <td>...</td>\n",
              "      <td>0</td>\n",
              "      <td>1</td>\n",
              "      <td>Lower_Middle</td>\n",
              "      <td>0</td>\n",
              "      <td>1.067593</td>\n",
              "      <td>0</td>\n",
              "      <td>0</td>\n",
              "      <td>1</td>\n",
              "      <td>0</td>\n",
              "      <td>0</td>\n",
              "    </tr>\n",
              "    <tr>\n",
              "      <th>4</th>\n",
              "      <td>4</td>\n",
              "      <td>2009005.0</td>\n",
              "      <td>2009.0</td>\n",
              "      <td>2014.0</td>\n",
              "      <td>NaN</td>\n",
              "      <td>UPD Educ</td>\n",
              "      <td>Secondary/ Biology</td>\n",
              "      <td>Graduated</td>\n",
              "      <td>Lourdes School of Mandaluyong</td>\n",
              "      <td>88.77</td>\n",
              "      <td>...</td>\n",
              "      <td>1</td>\n",
              "      <td>0</td>\n",
              "      <td>Middle_Middle</td>\n",
              "      <td>0</td>\n",
              "      <td>1.533333</td>\n",
              "      <td>0</td>\n",
              "      <td>0</td>\n",
              "      <td>0</td>\n",
              "      <td>1</td>\n",
              "      <td>0</td>\n",
              "    </tr>\n",
              "  </tbody>\n",
              "</table>\n",
              "<p>5 rows × 40 columns</p>\n",
              "</div>\n",
              "      <button class=\"colab-df-convert\" onclick=\"convertToInteractive('df-8a784f04-b9cf-4c92-a470-6c9da0def253')\"\n",
              "              title=\"Convert this dataframe to an interactive table.\"\n",
              "              style=\"display:none;\">\n",
              "        \n",
              "  <svg xmlns=\"http://www.w3.org/2000/svg\" height=\"24px\"viewBox=\"0 0 24 24\"\n",
              "       width=\"24px\">\n",
              "    <path d=\"M0 0h24v24H0V0z\" fill=\"none\"/>\n",
              "    <path d=\"M18.56 5.44l.94 2.06.94-2.06 2.06-.94-2.06-.94-.94-2.06-.94 2.06-2.06.94zm-11 1L8.5 8.5l.94-2.06 2.06-.94-2.06-.94L8.5 2.5l-.94 2.06-2.06.94zm10 10l.94 2.06.94-2.06 2.06-.94-2.06-.94-.94-2.06-.94 2.06-2.06.94z\"/><path d=\"M17.41 7.96l-1.37-1.37c-.4-.4-.92-.59-1.43-.59-.52 0-1.04.2-1.43.59L10.3 9.45l-7.72 7.72c-.78.78-.78 2.05 0 2.83L4 21.41c.39.39.9.59 1.41.59.51 0 1.02-.2 1.41-.59l7.78-7.78 2.81-2.81c.8-.78.8-2.07 0-2.86zM5.41 20L4 18.59l7.72-7.72 1.47 1.35L5.41 20z\"/>\n",
              "  </svg>\n",
              "      </button>\n",
              "      \n",
              "  <style>\n",
              "    .colab-df-container {\n",
              "      display:flex;\n",
              "      flex-wrap:wrap;\n",
              "      gap: 12px;\n",
              "    }\n",
              "\n",
              "    .colab-df-convert {\n",
              "      background-color: #E8F0FE;\n",
              "      border: none;\n",
              "      border-radius: 50%;\n",
              "      cursor: pointer;\n",
              "      display: none;\n",
              "      fill: #1967D2;\n",
              "      height: 32px;\n",
              "      padding: 0 0 0 0;\n",
              "      width: 32px;\n",
              "    }\n",
              "\n",
              "    .colab-df-convert:hover {\n",
              "      background-color: #E2EBFA;\n",
              "      box-shadow: 0px 1px 2px rgba(60, 64, 67, 0.3), 0px 1px 3px 1px rgba(60, 64, 67, 0.15);\n",
              "      fill: #174EA6;\n",
              "    }\n",
              "\n",
              "    [theme=dark] .colab-df-convert {\n",
              "      background-color: #3B4455;\n",
              "      fill: #D2E3FC;\n",
              "    }\n",
              "\n",
              "    [theme=dark] .colab-df-convert:hover {\n",
              "      background-color: #434B5C;\n",
              "      box-shadow: 0px 1px 3px 1px rgba(0, 0, 0, 0.15);\n",
              "      filter: drop-shadow(0px 1px 2px rgba(0, 0, 0, 0.3));\n",
              "      fill: #FFFFFF;\n",
              "    }\n",
              "  </style>\n",
              "\n",
              "      <script>\n",
              "        const buttonEl =\n",
              "          document.querySelector('#df-8a784f04-b9cf-4c92-a470-6c9da0def253 button.colab-df-convert');\n",
              "        buttonEl.style.display =\n",
              "          google.colab.kernel.accessAllowed ? 'block' : 'none';\n",
              "\n",
              "        async function convertToInteractive(key) {\n",
              "          const element = document.querySelector('#df-8a784f04-b9cf-4c92-a470-6c9da0def253');\n",
              "          const dataTable =\n",
              "            await google.colab.kernel.invokeFunction('convertToInteractive',\n",
              "                                                     [key], {});\n",
              "          if (!dataTable) return;\n",
              "\n",
              "          const docLinkHtml = 'Like what you see? Visit the ' +\n",
              "            '<a target=\"_blank\" href=https://colab.research.google.com/notebooks/data_table.ipynb>data table notebook</a>'\n",
              "            + ' to learn more about interactive tables.';\n",
              "          element.innerHTML = '';\n",
              "          dataTable['output_type'] = 'display_data';\n",
              "          await google.colab.output.renderOutput(dataTable, element);\n",
              "          const docLink = document.createElement('div');\n",
              "          docLink.innerHTML = docLinkHtml;\n",
              "          element.appendChild(docLink);\n",
              "        }\n",
              "      </script>\n",
              "    </div>\n",
              "  </div>\n",
              "  "
            ]
          },
          "metadata": {},
          "execution_count": 4
        }
      ]
    },
    {
      "cell_type": "code",
      "source": [
        "df.columns"
      ],
      "metadata": {
        "colab": {
          "base_uri": "https://localhost:8080/"
        },
        "id": "ZW0Gtzfj85eT",
        "outputId": "26059ecb-0b59-4768-864e-ded4857b27f5"
      },
      "execution_count": 5,
      "outputs": [
        {
          "output_type": "execute_result",
          "data": {
            "text/plain": [
              "Index(['Unnamed: 0', 'Scholar_ID', 'Batch', 'Year_Graduated',\n",
              "       'Year_Disqualified', 'School', 'Course', 'Status', 'High_School',\n",
              "       'Average_Grade_in_HS', 'Annual_Family_Income', 'Demographic_Location',\n",
              "       'Father_Occupation', 'Father_Annual_Salary', 'Mother_Occupation',\n",
              "       'Mother_Annual_Salary', 'No_of_Siblings', 'Scholarship_Status',\n",
              "       'Is_UPD', 'Is_Education',\n",
              "       'HS_Avg_Grade_imputed_based_on_demographic_loc',\n",
              "       'HS_Avg_Grade_imputed_based_on_school_loc', 'HS_Sector', 'HS_Private',\n",
              "       'HS_Public', 'HS_SUCs/LUCs', 'Urbanity_Level',\n",
              "       'College_Within_Municipality/City', 'Is_F_employed', 'Is_M_employed',\n",
              "       'Are_Both_Parents_Employed', 'Is_Only_One_Parent_Employed',\n",
              "       'Income_Class', 'Is_Poor', 'percent_of_cutoff', 'Class_Poor',\n",
              "       'Class_Lower', 'Class_Lower_Middle', 'Class_Middle_Middle',\n",
              "       'Class_Upper_Middle'],\n",
              "      dtype='object')"
            ]
          },
          "metadata": {},
          "execution_count": 5
        }
      ]
    },
    {
      "cell_type": "code",
      "source": [
        "df['College_Within_Municipality/City'].unique()"
      ],
      "metadata": {
        "colab": {
          "base_uri": "https://localhost:8080/"
        },
        "id": "izRRT-RW_uTT",
        "outputId": "ad74d7d1-d5b4-42ed-f61b-fa77d29a210c"
      },
      "execution_count": 9,
      "outputs": [
        {
          "output_type": "execute_result",
          "data": {
            "text/plain": [
              "array([0, 1])"
            ]
          },
          "metadata": {},
          "execution_count": 9
        }
      ]
    },
    {
      "cell_type": "markdown",
      "source": [
        "## Adjusting Columns"
      ],
      "metadata": {
        "id": "aEub2rHH_ZJW"
      }
    },
    {
      "cell_type": "code",
      "source": [
        "df.columns"
      ],
      "metadata": {
        "colab": {
          "base_uri": "https://localhost:8080/"
        },
        "id": "VcrZhSjLEB6P",
        "outputId": "0d23383a-e850-4c5d-abbe-3bb7bf1c4517"
      },
      "execution_count": 21,
      "outputs": [
        {
          "output_type": "execute_result",
          "data": {
            "text/plain": [
              "Index(['Unnamed: 0', 'Scholar_ID', 'Batch', 'Year_Graduated',\n",
              "       'Year_Disqualified', 'School', 'Course', 'status_og', 'High_School',\n",
              "       'hs_grade', 'income', 'Demographic_Location', 'Father_Occupation',\n",
              "       'Father_Annual_Salary', 'Mother_Occupation', 'Mother_Annual_Salary',\n",
              "       'siblings', 'status', 'Is_UPD', 'Is_Education',\n",
              "       'HS_Avg_Grade_imputed_based_on_demographic_loc',\n",
              "       'HS_Avg_Grade_imputed_based_on_school_loc', 'HS_Sector', 'HS_Private',\n",
              "       'HS_Public', 'HS_SUCs/LUCs', 'urbanity',\n",
              "       'College_Within_Municipality/City', 'Is_F_employed', 'Is_M_employed',\n",
              "       'Are_Both_Parents_Employed', 'Is_Only_One_Parent_Employed',\n",
              "       'Income_Class', 'Is_Poor', 'percent_of_cutoff', 'Class_Poor',\n",
              "       'Class_Lower', 'Class_Lower_Middle', 'Class_Middle_Middle',\n",
              "       'Class_Upper_Middle', 'has_siblings'],\n",
              "      dtype='object')"
            ]
          },
          "metadata": {},
          "execution_count": 21
        }
      ]
    },
    {
      "cell_type": "code",
      "source": [
        "df.rename(columns = {'Average_Grade_in_HS':'hs_grade', \n",
        "                     'Annual_Family_Income':'income',\n",
        "                      'Status':'status_og',\n",
        "                     'No_of_Siblings' : 'siblings', \n",
        "                    'Scholarship_Status' : 'status', \n",
        "                     'Urbanity_Level': 'urbanity',\n",
        "                      'HS_Avg_Grade_imputed_based_on_demographic_loc':'grade_demo_loc',\n",
        "                     'HS_Avg_Grade_imputed_based_on_school_loc': 'grade_school_loc',\n",
        "                     }, inplace = True)\n",
        "df.head()"
      ],
      "metadata": {
        "colab": {
          "base_uri": "https://localhost:8080/",
          "height": 0
        },
        "id": "yEffPJJi-vqA",
        "outputId": "390e0ade-9f68-48df-e704-d2d4cdaa0a03"
      },
      "execution_count": 22,
      "outputs": [
        {
          "output_type": "execute_result",
          "data": {
            "text/plain": [
              "   Unnamed: 0  Scholar_ID   Batch  Year_Graduated  Year_Disqualified  \\\n",
              "0           0   2007001.0  2007.0          2011.0                NaN   \n",
              "1           1   2007002.0  2007.0          2011.0                NaN   \n",
              "2           2   2007003.0  2007.0          2011.0                NaN   \n",
              "3           3   2009004.0  2009.0             NaN             2011.0   \n",
              "4           4   2009005.0  2009.0          2014.0                NaN   \n",
              "\n",
              "     School                    Course     status_og  \\\n",
              "0  UPD Educ    Secondary/ Mathematics     Graduated   \n",
              "1       UPD                      Math     Graduated   \n",
              "2       UPD                      Math     Graduated   \n",
              "3  UPD Educ  Secondary/ Art Education  Disqualified   \n",
              "4  UPD Educ        Secondary/ Biology     Graduated   \n",
              "\n",
              "                           High_School  hs_grade  ...  \\\n",
              "0                                  NaN       NaN  ...   \n",
              "1     Holy Redeemer School of Kalookan       NaN  ...   \n",
              "2  Aurora National Science High School       NaN  ...   \n",
              "3                UP Intergrated School     86.50  ...   \n",
              "4       Lourdes School of Mandaluyong      88.77  ...   \n",
              "\n",
              "   Is_Only_One_Parent_Employed   Income_Class Is_Poor percent_of_cutoff  \\\n",
              "0                            1          Lower       0          0.522242   \n",
              "1                            1           Poor       1          0.120000   \n",
              "2                            0          Lower       0          0.430000   \n",
              "3                            1   Lower_Middle       0          1.067593   \n",
              "4                            0  Middle_Middle       0          1.533333   \n",
              "\n",
              "  Class_Poor  Class_Lower  Class_Lower_Middle Class_Middle_Middle  \\\n",
              "0          0            1                   0                   0   \n",
              "1          1            0                   0                   0   \n",
              "2          0            1                   0                   0   \n",
              "3          0            0                   1                   0   \n",
              "4          0            0                   0                   1   \n",
              "\n",
              "   Class_Upper_Middle  has_siblings  \n",
              "0                   0             1  \n",
              "1                   0             1  \n",
              "2                   0             1  \n",
              "3                   0             1  \n",
              "4                   0             1  \n",
              "\n",
              "[5 rows x 41 columns]"
            ],
            "text/html": [
              "\n",
              "  <div id=\"df-324dd842-64af-4c8a-8759-7cf1e43dfa22\">\n",
              "    <div class=\"colab-df-container\">\n",
              "      <div>\n",
              "<style scoped>\n",
              "    .dataframe tbody tr th:only-of-type {\n",
              "        vertical-align: middle;\n",
              "    }\n",
              "\n",
              "    .dataframe tbody tr th {\n",
              "        vertical-align: top;\n",
              "    }\n",
              "\n",
              "    .dataframe thead th {\n",
              "        text-align: right;\n",
              "    }\n",
              "</style>\n",
              "<table border=\"1\" class=\"dataframe\">\n",
              "  <thead>\n",
              "    <tr style=\"text-align: right;\">\n",
              "      <th></th>\n",
              "      <th>Unnamed: 0</th>\n",
              "      <th>Scholar_ID</th>\n",
              "      <th>Batch</th>\n",
              "      <th>Year_Graduated</th>\n",
              "      <th>Year_Disqualified</th>\n",
              "      <th>School</th>\n",
              "      <th>Course</th>\n",
              "      <th>status_og</th>\n",
              "      <th>High_School</th>\n",
              "      <th>hs_grade</th>\n",
              "      <th>...</th>\n",
              "      <th>Is_Only_One_Parent_Employed</th>\n",
              "      <th>Income_Class</th>\n",
              "      <th>Is_Poor</th>\n",
              "      <th>percent_of_cutoff</th>\n",
              "      <th>Class_Poor</th>\n",
              "      <th>Class_Lower</th>\n",
              "      <th>Class_Lower_Middle</th>\n",
              "      <th>Class_Middle_Middle</th>\n",
              "      <th>Class_Upper_Middle</th>\n",
              "      <th>has_siblings</th>\n",
              "    </tr>\n",
              "  </thead>\n",
              "  <tbody>\n",
              "    <tr>\n",
              "      <th>0</th>\n",
              "      <td>0</td>\n",
              "      <td>2007001.0</td>\n",
              "      <td>2007.0</td>\n",
              "      <td>2011.0</td>\n",
              "      <td>NaN</td>\n",
              "      <td>UPD Educ</td>\n",
              "      <td>Secondary/ Mathematics</td>\n",
              "      <td>Graduated</td>\n",
              "      <td>NaN</td>\n",
              "      <td>NaN</td>\n",
              "      <td>...</td>\n",
              "      <td>1</td>\n",
              "      <td>Lower</td>\n",
              "      <td>0</td>\n",
              "      <td>0.522242</td>\n",
              "      <td>0</td>\n",
              "      <td>1</td>\n",
              "      <td>0</td>\n",
              "      <td>0</td>\n",
              "      <td>0</td>\n",
              "      <td>1</td>\n",
              "    </tr>\n",
              "    <tr>\n",
              "      <th>1</th>\n",
              "      <td>1</td>\n",
              "      <td>2007002.0</td>\n",
              "      <td>2007.0</td>\n",
              "      <td>2011.0</td>\n",
              "      <td>NaN</td>\n",
              "      <td>UPD</td>\n",
              "      <td>Math</td>\n",
              "      <td>Graduated</td>\n",
              "      <td>Holy Redeemer School of Kalookan</td>\n",
              "      <td>NaN</td>\n",
              "      <td>...</td>\n",
              "      <td>1</td>\n",
              "      <td>Poor</td>\n",
              "      <td>1</td>\n",
              "      <td>0.120000</td>\n",
              "      <td>1</td>\n",
              "      <td>0</td>\n",
              "      <td>0</td>\n",
              "      <td>0</td>\n",
              "      <td>0</td>\n",
              "      <td>1</td>\n",
              "    </tr>\n",
              "    <tr>\n",
              "      <th>2</th>\n",
              "      <td>2</td>\n",
              "      <td>2007003.0</td>\n",
              "      <td>2007.0</td>\n",
              "      <td>2011.0</td>\n",
              "      <td>NaN</td>\n",
              "      <td>UPD</td>\n",
              "      <td>Math</td>\n",
              "      <td>Graduated</td>\n",
              "      <td>Aurora National Science High School</td>\n",
              "      <td>NaN</td>\n",
              "      <td>...</td>\n",
              "      <td>0</td>\n",
              "      <td>Lower</td>\n",
              "      <td>0</td>\n",
              "      <td>0.430000</td>\n",
              "      <td>0</td>\n",
              "      <td>1</td>\n",
              "      <td>0</td>\n",
              "      <td>0</td>\n",
              "      <td>0</td>\n",
              "      <td>1</td>\n",
              "    </tr>\n",
              "    <tr>\n",
              "      <th>3</th>\n",
              "      <td>3</td>\n",
              "      <td>2009004.0</td>\n",
              "      <td>2009.0</td>\n",
              "      <td>NaN</td>\n",
              "      <td>2011.0</td>\n",
              "      <td>UPD Educ</td>\n",
              "      <td>Secondary/ Art Education</td>\n",
              "      <td>Disqualified</td>\n",
              "      <td>UP Intergrated School</td>\n",
              "      <td>86.50</td>\n",
              "      <td>...</td>\n",
              "      <td>1</td>\n",
              "      <td>Lower_Middle</td>\n",
              "      <td>0</td>\n",
              "      <td>1.067593</td>\n",
              "      <td>0</td>\n",
              "      <td>0</td>\n",
              "      <td>1</td>\n",
              "      <td>0</td>\n",
              "      <td>0</td>\n",
              "      <td>1</td>\n",
              "    </tr>\n",
              "    <tr>\n",
              "      <th>4</th>\n",
              "      <td>4</td>\n",
              "      <td>2009005.0</td>\n",
              "      <td>2009.0</td>\n",
              "      <td>2014.0</td>\n",
              "      <td>NaN</td>\n",
              "      <td>UPD Educ</td>\n",
              "      <td>Secondary/ Biology</td>\n",
              "      <td>Graduated</td>\n",
              "      <td>Lourdes School of Mandaluyong</td>\n",
              "      <td>88.77</td>\n",
              "      <td>...</td>\n",
              "      <td>0</td>\n",
              "      <td>Middle_Middle</td>\n",
              "      <td>0</td>\n",
              "      <td>1.533333</td>\n",
              "      <td>0</td>\n",
              "      <td>0</td>\n",
              "      <td>0</td>\n",
              "      <td>1</td>\n",
              "      <td>0</td>\n",
              "      <td>1</td>\n",
              "    </tr>\n",
              "  </tbody>\n",
              "</table>\n",
              "<p>5 rows × 41 columns</p>\n",
              "</div>\n",
              "      <button class=\"colab-df-convert\" onclick=\"convertToInteractive('df-324dd842-64af-4c8a-8759-7cf1e43dfa22')\"\n",
              "              title=\"Convert this dataframe to an interactive table.\"\n",
              "              style=\"display:none;\">\n",
              "        \n",
              "  <svg xmlns=\"http://www.w3.org/2000/svg\" height=\"24px\"viewBox=\"0 0 24 24\"\n",
              "       width=\"24px\">\n",
              "    <path d=\"M0 0h24v24H0V0z\" fill=\"none\"/>\n",
              "    <path d=\"M18.56 5.44l.94 2.06.94-2.06 2.06-.94-2.06-.94-.94-2.06-.94 2.06-2.06.94zm-11 1L8.5 8.5l.94-2.06 2.06-.94-2.06-.94L8.5 2.5l-.94 2.06-2.06.94zm10 10l.94 2.06.94-2.06 2.06-.94-2.06-.94-.94-2.06-.94 2.06-2.06.94z\"/><path d=\"M17.41 7.96l-1.37-1.37c-.4-.4-.92-.59-1.43-.59-.52 0-1.04.2-1.43.59L10.3 9.45l-7.72 7.72c-.78.78-.78 2.05 0 2.83L4 21.41c.39.39.9.59 1.41.59.51 0 1.02-.2 1.41-.59l7.78-7.78 2.81-2.81c.8-.78.8-2.07 0-2.86zM5.41 20L4 18.59l7.72-7.72 1.47 1.35L5.41 20z\"/>\n",
              "  </svg>\n",
              "      </button>\n",
              "      \n",
              "  <style>\n",
              "    .colab-df-container {\n",
              "      display:flex;\n",
              "      flex-wrap:wrap;\n",
              "      gap: 12px;\n",
              "    }\n",
              "\n",
              "    .colab-df-convert {\n",
              "      background-color: #E8F0FE;\n",
              "      border: none;\n",
              "      border-radius: 50%;\n",
              "      cursor: pointer;\n",
              "      display: none;\n",
              "      fill: #1967D2;\n",
              "      height: 32px;\n",
              "      padding: 0 0 0 0;\n",
              "      width: 32px;\n",
              "    }\n",
              "\n",
              "    .colab-df-convert:hover {\n",
              "      background-color: #E2EBFA;\n",
              "      box-shadow: 0px 1px 2px rgba(60, 64, 67, 0.3), 0px 1px 3px 1px rgba(60, 64, 67, 0.15);\n",
              "      fill: #174EA6;\n",
              "    }\n",
              "\n",
              "    [theme=dark] .colab-df-convert {\n",
              "      background-color: #3B4455;\n",
              "      fill: #D2E3FC;\n",
              "    }\n",
              "\n",
              "    [theme=dark] .colab-df-convert:hover {\n",
              "      background-color: #434B5C;\n",
              "      box-shadow: 0px 1px 3px 1px rgba(0, 0, 0, 0.15);\n",
              "      filter: drop-shadow(0px 1px 2px rgba(0, 0, 0, 0.3));\n",
              "      fill: #FFFFFF;\n",
              "    }\n",
              "  </style>\n",
              "\n",
              "      <script>\n",
              "        const buttonEl =\n",
              "          document.querySelector('#df-324dd842-64af-4c8a-8759-7cf1e43dfa22 button.colab-df-convert');\n",
              "        buttonEl.style.display =\n",
              "          google.colab.kernel.accessAllowed ? 'block' : 'none';\n",
              "\n",
              "        async function convertToInteractive(key) {\n",
              "          const element = document.querySelector('#df-324dd842-64af-4c8a-8759-7cf1e43dfa22');\n",
              "          const dataTable =\n",
              "            await google.colab.kernel.invokeFunction('convertToInteractive',\n",
              "                                                     [key], {});\n",
              "          if (!dataTable) return;\n",
              "\n",
              "          const docLinkHtml = 'Like what you see? Visit the ' +\n",
              "            '<a target=\"_blank\" href=https://colab.research.google.com/notebooks/data_table.ipynb>data table notebook</a>'\n",
              "            + ' to learn more about interactive tables.';\n",
              "          element.innerHTML = '';\n",
              "          dataTable['output_type'] = 'display_data';\n",
              "          await google.colab.output.renderOutput(dataTable, element);\n",
              "          const docLink = document.createElement('div');\n",
              "          docLink.innerHTML = docLinkHtml;\n",
              "          element.appendChild(docLink);\n",
              "        }\n",
              "      </script>\n",
              "    </div>\n",
              "  </div>\n",
              "  "
            ]
          },
          "metadata": {},
          "execution_count": 22
        }
      ]
    },
    {
      "cell_type": "markdown",
      "source": [
        "Adding is_siblings"
      ],
      "metadata": {
        "id": "Mag-zkmKAV8i"
      }
    },
    {
      "cell_type": "markdown",
      "source": [],
      "metadata": {
        "id": "HnPFClz1CPzx"
      }
    },
    {
      "cell_type": "code",
      "source": [
        "df['siblings'].unique()"
      ],
      "metadata": {
        "colab": {
          "base_uri": "https://localhost:8080/"
        },
        "id": "Uc4iRgk7A4qn",
        "outputId": "2639b19b-ad92-453c-8a63-cd6434600552"
      },
      "execution_count": 16,
      "outputs": [
        {
          "output_type": "execute_result",
          "data": {
            "text/plain": [
              "array([2., 1., 3., 0., 4., 5., 6., 7., 8.])"
            ]
          },
          "metadata": {},
          "execution_count": 16
        }
      ]
    },
    {
      "cell_type": "code",
      "source": [
        "df['has_siblings'] = np.where((df['siblings']>0),1,0)"
      ],
      "metadata": {
        "id": "8PEMgxg0AX6m"
      },
      "execution_count": 15,
      "outputs": []
    },
    {
      "cell_type": "code",
      "source": [
        "df.Demographic_Location.unique()"
      ],
      "metadata": {
        "colab": {
          "base_uri": "https://localhost:8080/"
        },
        "id": "-QVVQk1bDF-D",
        "outputId": "b3cdfee3-6be2-445b-b805-e566342258e5"
      },
      "execution_count": 19,
      "outputs": [
        {
          "output_type": "execute_result",
          "data": {
            "text/plain": [
              "array(['Isabela', 'Caloocan City', 'Quezon City', 'Pasig City',\n",
              "       'San Pablo City', 'Las Piñas City', 'Makati City', 'Rizal',\n",
              "       'Surigao del Sur', 'Manila', 'Antipolo City', 'Laguna',\n",
              "       'Bacoor, Cavite', 'Sta. Ana, Manila', 'Marikina City',\n",
              "       'Cainta, Rizal', 'Malolos, Bulacan', 'Muntinlupa City',\n",
              "       'Pandacan, Manila', 'Calbayog City, Samar', 'Silang, Cavite',\n",
              "       'Montalban, Rizal', 'Dagupan City', 'Mandaluyong City',\n",
              "       'Silang, Caloocan', 'Solana, Cagayan', 'Baler, Aurora',\n",
              "       'Mexico, Pampanga', 'Milagros, Masbate', 'Sto. Tomas, Batangas',\n",
              "       'Laoag City', 'Del monte, Bulacan', 'Calamba, Laguna',\n",
              "       'Rodriguez, Rizal', 'Dipaculao, Aurora', 'San Luis, Aurora',\n",
              "       'Maria Aurora, Aurora', 'Tagbilaran City, Bohol',\n",
              "       'Inabanga, Bohol', 'Alburquerque, Bohol', 'La Trinidad, Benguet',\n",
              "       'Kapangan, Benguet', 'Pangantucan, Bukidnon', 'Maramag, Bukidnon',\n",
              "       'Lantapan, Bukidnon', 'Mati City, Davao Oriental', 'Taguig City',\n",
              "       'Sta. Maria, Bulacan', 'Zamboanga, del Norte',\n",
              "       'Umingan, Pangasinan', 'Calatrava, Romblon', 'Misamis, Oriental',\n",
              "       'Lucena City, Quezon', 'Davao City', 'Bullones, Bohol',\n",
              "       'Tagbilaran City', 'Valencia, Bohol', 'Barlig, Mountain Province',\n",
              "       'Don Carlos, Bukidnon', 'Ilagan City, Isabela', 'Sjom, Bulacan',\n",
              "       'Mabalacat, Pampanga', 'Parañaque City', 'Polangui, Albay',\n",
              "       'Sablan, Benguet', 'Baguio City', 'Sagbayan, Bohol',\n",
              "       'City of Mati, Davao Oriental', 'Banay, Davao Oriental',\n",
              "       'Sta. Cruz, Manila', 'Tondo, Manila', 'Calmba City, Laguna',\n",
              "       'Bagac, Bataan', 'Jagna, Bohol', 'Alicia, Bohol',\n",
              "       'Buguias, Benguet', 'Bauko, Mountain Province',\n",
              "       'Banay-Banay Davao Oriental', 'Nasugbu, Batangas',\n",
              "       'Basco, Batanes', 'Taytay, Rizal', 'Marilao, Bulacan',\n",
              "       'Lipa City, Batangas', 'San Fabian, Pangasinan',\n",
              "       'Calabanga, Camarines Sur', 'Calape, Bohol',\n",
              "       'Valencia City, Bukidnon', 'San Fernando, Bukidnon',\n",
              "       'Catigbian, Bohol', 'Guiguinto, Bulacan', 'Rosario, Cavite',\n",
              "       'Occidental, Mindoro', 'Malabon City',\n",
              "       'Buenavista, Agusan Del Norte', 'Santa Rosa, Laguna',\n",
              "       'Dilasag, Aurora', 'Pilar, Bohol', 'Carmen, Bohol',\n",
              "       'Clarin, Bohol', 'Quezon, Bukidnon', 'Lupon, Davao Oriental',\n",
              "       'Tagum City', 'Antipolo City, Rizal', 'Candaba, Pampanga',\n",
              "       'Calamba City, Laguna', 'Baras, Rizal', 'San Juan City',\n",
              "       'Mankayan, Benguet', 'Bagulin, La Union', 'Dauis, Bohol ',\n",
              "       'Quezon, Bukidnon ', 'Calilangan, Bukidnon',\n",
              "       'Manay, Davao Oriental', 'Mabolo, Cebu City',\n",
              "       'Puerto Princesa City, Palawan', 'Nueva Valencia, Guimaras',\n",
              "       'General Trias, Cavite', 'Amadeo, Cavite', 'Cuenca, Batangas City',\n",
              "       'Angat, Bulacan', 'San Pedro, Laguna'], dtype=object)"
            ]
          },
          "metadata": {},
          "execution_count": 19
        }
      ]
    },
    {
      "cell_type": "code",
      "source": [
        "df.info()"
      ],
      "metadata": {
        "colab": {
          "base_uri": "https://localhost:8080/"
        },
        "id": "edDZzK0DC4tA",
        "outputId": "e0de0712-ffde-4179-bebe-27c95194d11a"
      },
      "execution_count": 17,
      "outputs": [
        {
          "output_type": "stream",
          "name": "stdout",
          "text": [
            "<class 'pandas.core.frame.DataFrame'>\n",
            "RangeIndex: 230 entries, 0 to 229\n",
            "Data columns (total 41 columns):\n",
            " #   Column                                         Non-Null Count  Dtype  \n",
            "---  ------                                         --------------  -----  \n",
            " 0   Unnamed: 0                                     230 non-null    int64  \n",
            " 1   Scholar_ID                                     230 non-null    float64\n",
            " 2   Batch                                          230 non-null    float64\n",
            " 3   Year_Graduated                                 92 non-null     float64\n",
            " 4   Year_Disqualified                              53 non-null     float64\n",
            " 5   School                                         230 non-null    object \n",
            " 6   Course                                         230 non-null    object \n",
            " 7   status_og                                      230 non-null    object \n",
            " 8   High_School                                    229 non-null    object \n",
            " 9   hs_grade                                       200 non-null    float64\n",
            " 10  income                                         230 non-null    float64\n",
            " 11  Demographic_Location                           230 non-null    object \n",
            " 12  Father_Occupation                              230 non-null    object \n",
            " 13  Father_Annual_Salary                           54 non-null     object \n",
            " 14  Mother_Occupation                              230 non-null    object \n",
            " 15  Mother_Annual_Salary                           36 non-null     float64\n",
            " 16  siblings                                       230 non-null    float64\n",
            " 17  status                                         230 non-null    object \n",
            " 18  Is_UPD                                         230 non-null    int64  \n",
            " 19  Is_Education                                   230 non-null    int64  \n",
            " 20  HS_Avg_Grade_imputed_based_on_demographic_loc  230 non-null    float64\n",
            " 21  HS_Avg_Grade_imputed_based_on_school_loc       230 non-null    float64\n",
            " 22  HS_Sector                                      230 non-null    object \n",
            " 23  HS_Private                                     230 non-null    int64  \n",
            " 24  HS_Public                                      230 non-null    int64  \n",
            " 25  HS_SUCs/LUCs                                   230 non-null    int64  \n",
            " 26  urbanity                                       230 non-null    object \n",
            " 27  College_Within_Municipality/City               230 non-null    int64  \n",
            " 28  Is_F_employed                                  230 non-null    int64  \n",
            " 29  Is_M_employed                                  230 non-null    int64  \n",
            " 30  Are_Both_Parents_Employed                      230 non-null    int64  \n",
            " 31  Is_Only_One_Parent_Employed                    230 non-null    int64  \n",
            " 32  Income_Class                                   230 non-null    object \n",
            " 33  Is_Poor                                        230 non-null    int64  \n",
            " 34  percent_of_cutoff                              230 non-null    float64\n",
            " 35  Class_Poor                                     230 non-null    int64  \n",
            " 36  Class_Lower                                    230 non-null    int64  \n",
            " 37  Class_Lower_Middle                             230 non-null    int64  \n",
            " 38  Class_Middle_Middle                            230 non-null    int64  \n",
            " 39  Class_Upper_Middle                             230 non-null    int64  \n",
            " 40  has_siblings                                   230 non-null    int64  \n",
            "dtypes: float64(11), int64(18), object(12)\n",
            "memory usage: 73.8+ KB\n"
          ]
        }
      ]
    },
    {
      "cell_type": "markdown",
      "source": [
        "## Selecting Features for All"
      ],
      "metadata": {
        "id": "050za1JcAaqn"
      }
    },
    {
      "cell_type": "code",
      "source": [
        "df.columns"
      ],
      "metadata": {
        "colab": {
          "base_uri": "https://localhost:8080/"
        },
        "id": "daDzAKLDC5yb",
        "outputId": "e07a1899-a1b1-4c65-85fb-c632440eeedb"
      },
      "execution_count": 227,
      "outputs": [
        {
          "output_type": "execute_result",
          "data": {
            "text/plain": [
              "Index(['Unnamed: 0', 'Scholar_ID', 'Batch', 'Year_Graduated',\n",
              "       'Year_Disqualified', 'School', 'Course', 'status_og', 'High_School',\n",
              "       'hs_grade', 'income', 'Demographic_Location', 'Father_Occupation',\n",
              "       'Father_Annual_Salary', 'Mother_Occupation', 'Mother_Annual_Salary',\n",
              "       'siblings', 'status', 'Is_UPD', 'Is_Education', 'grade_demo_loc',\n",
              "       'grade_school_loc', 'HS_Sector', 'HS_Private', 'HS_Public',\n",
              "       'HS_SUCs/LUCs', 'urbanity', 'College_Within_Municipality/City',\n",
              "       'Is_F_employed', 'Is_M_employed', 'Are_Both_Parents_Employed',\n",
              "       'Is_Only_One_Parent_Employed', 'Income_Class', 'Is_Poor',\n",
              "       'percent_of_cutoff', 'Class_Poor', 'Class_Lower', 'Class_Lower_Middle',\n",
              "       'Class_Middle_Middle', 'Class_Upper_Middle', 'has_siblings',\n",
              "       'is_urban_high'],\n",
              "      dtype='object')"
            ]
          },
          "metadata": {},
          "execution_count": 227
        }
      ]
    },
    {
      "cell_type": "code",
      "source": [
        "df['urbanity'].unique()"
      ],
      "metadata": {
        "colab": {
          "base_uri": "https://localhost:8080/"
        },
        "id": "Q7gePYFiFWpU",
        "outputId": "06bef850-c28e-4215-cb4f-a89ae22de7d7"
      },
      "execution_count": 228,
      "outputs": [
        {
          "output_type": "execute_result",
          "data": {
            "text/plain": [
              "array(['Low', 'High'], dtype=object)"
            ]
          },
          "metadata": {},
          "execution_count": 228
        }
      ]
    },
    {
      "cell_type": "code",
      "source": [
        "df['is_urban_high'] = np.where(df.urbanity == 'High', 1, 0)"
      ],
      "metadata": {
        "id": "iJDqEUYZFs4a"
      },
      "execution_count": 229,
      "outputs": []
    },
    {
      "cell_type": "code",
      "source": [
        "feats_1 = ['grade_demo_loc', 'percent_of_cutoff', 'Are_Both_Parents_Employed', 'HS_Private', 'HS_Public',\n",
        "       'HS_SUCs/LUCs', 'Is_UPD', 'status']\n",
        "data_0 = df.loc[df['status'].isin(['Graduated', 'Disqualified'])] #Excluding Ongoing"
      ],
      "metadata": {
        "id": "TN8a5HKX-TYd"
      },
      "execution_count": 230,
      "outputs": []
    },
    {
      "cell_type": "code",
      "source": [
        "data_1 = data_0[feats_1] \n",
        "data_1.head()"
      ],
      "metadata": {
        "colab": {
          "base_uri": "https://localhost:8080/",
          "height": 206
        },
        "id": "0vh2ZKHrHf2V",
        "outputId": "5860223e-7bdf-4cdb-9003-7339af25ba8f"
      },
      "execution_count": 231,
      "outputs": [
        {
          "output_type": "execute_result",
          "data": {
            "text/plain": [
              "   grade_demo_loc  percent_of_cutoff  Are_Both_Parents_Employed  HS_Private  \\\n",
              "0       94.920000           0.522242                          0           0   \n",
              "1       92.980667           0.120000                          0           1   \n",
              "2       92.980667           0.430000                          1           0   \n",
              "3       86.500000           1.067593                          0           0   \n",
              "4       88.770000           1.533333                          1           1   \n",
              "\n",
              "   HS_Public  HS_SUCs/LUCs  Is_UPD        status  \n",
              "0          1             0       1     Graduated  \n",
              "1          0             0       1     Graduated  \n",
              "2          1             0       1     Graduated  \n",
              "3          0             1       1  Disqualified  \n",
              "4          0             0       1     Graduated  "
            ],
            "text/html": [
              "\n",
              "  <div id=\"df-2aa7c16e-7b00-4cc5-8b1f-585338d5d080\">\n",
              "    <div class=\"colab-df-container\">\n",
              "      <div>\n",
              "<style scoped>\n",
              "    .dataframe tbody tr th:only-of-type {\n",
              "        vertical-align: middle;\n",
              "    }\n",
              "\n",
              "    .dataframe tbody tr th {\n",
              "        vertical-align: top;\n",
              "    }\n",
              "\n",
              "    .dataframe thead th {\n",
              "        text-align: right;\n",
              "    }\n",
              "</style>\n",
              "<table border=\"1\" class=\"dataframe\">\n",
              "  <thead>\n",
              "    <tr style=\"text-align: right;\">\n",
              "      <th></th>\n",
              "      <th>grade_demo_loc</th>\n",
              "      <th>percent_of_cutoff</th>\n",
              "      <th>Are_Both_Parents_Employed</th>\n",
              "      <th>HS_Private</th>\n",
              "      <th>HS_Public</th>\n",
              "      <th>HS_SUCs/LUCs</th>\n",
              "      <th>Is_UPD</th>\n",
              "      <th>status</th>\n",
              "    </tr>\n",
              "  </thead>\n",
              "  <tbody>\n",
              "    <tr>\n",
              "      <th>0</th>\n",
              "      <td>94.920000</td>\n",
              "      <td>0.522242</td>\n",
              "      <td>0</td>\n",
              "      <td>0</td>\n",
              "      <td>1</td>\n",
              "      <td>0</td>\n",
              "      <td>1</td>\n",
              "      <td>Graduated</td>\n",
              "    </tr>\n",
              "    <tr>\n",
              "      <th>1</th>\n",
              "      <td>92.980667</td>\n",
              "      <td>0.120000</td>\n",
              "      <td>0</td>\n",
              "      <td>1</td>\n",
              "      <td>0</td>\n",
              "      <td>0</td>\n",
              "      <td>1</td>\n",
              "      <td>Graduated</td>\n",
              "    </tr>\n",
              "    <tr>\n",
              "      <th>2</th>\n",
              "      <td>92.980667</td>\n",
              "      <td>0.430000</td>\n",
              "      <td>1</td>\n",
              "      <td>0</td>\n",
              "      <td>1</td>\n",
              "      <td>0</td>\n",
              "      <td>1</td>\n",
              "      <td>Graduated</td>\n",
              "    </tr>\n",
              "    <tr>\n",
              "      <th>3</th>\n",
              "      <td>86.500000</td>\n",
              "      <td>1.067593</td>\n",
              "      <td>0</td>\n",
              "      <td>0</td>\n",
              "      <td>0</td>\n",
              "      <td>1</td>\n",
              "      <td>1</td>\n",
              "      <td>Disqualified</td>\n",
              "    </tr>\n",
              "    <tr>\n",
              "      <th>4</th>\n",
              "      <td>88.770000</td>\n",
              "      <td>1.533333</td>\n",
              "      <td>1</td>\n",
              "      <td>1</td>\n",
              "      <td>0</td>\n",
              "      <td>0</td>\n",
              "      <td>1</td>\n",
              "      <td>Graduated</td>\n",
              "    </tr>\n",
              "  </tbody>\n",
              "</table>\n",
              "</div>\n",
              "      <button class=\"colab-df-convert\" onclick=\"convertToInteractive('df-2aa7c16e-7b00-4cc5-8b1f-585338d5d080')\"\n",
              "              title=\"Convert this dataframe to an interactive table.\"\n",
              "              style=\"display:none;\">\n",
              "        \n",
              "  <svg xmlns=\"http://www.w3.org/2000/svg\" height=\"24px\"viewBox=\"0 0 24 24\"\n",
              "       width=\"24px\">\n",
              "    <path d=\"M0 0h24v24H0V0z\" fill=\"none\"/>\n",
              "    <path d=\"M18.56 5.44l.94 2.06.94-2.06 2.06-.94-2.06-.94-.94-2.06-.94 2.06-2.06.94zm-11 1L8.5 8.5l.94-2.06 2.06-.94-2.06-.94L8.5 2.5l-.94 2.06-2.06.94zm10 10l.94 2.06.94-2.06 2.06-.94-2.06-.94-.94-2.06-.94 2.06-2.06.94z\"/><path d=\"M17.41 7.96l-1.37-1.37c-.4-.4-.92-.59-1.43-.59-.52 0-1.04.2-1.43.59L10.3 9.45l-7.72 7.72c-.78.78-.78 2.05 0 2.83L4 21.41c.39.39.9.59 1.41.59.51 0 1.02-.2 1.41-.59l7.78-7.78 2.81-2.81c.8-.78.8-2.07 0-2.86zM5.41 20L4 18.59l7.72-7.72 1.47 1.35L5.41 20z\"/>\n",
              "  </svg>\n",
              "      </button>\n",
              "      \n",
              "  <style>\n",
              "    .colab-df-container {\n",
              "      display:flex;\n",
              "      flex-wrap:wrap;\n",
              "      gap: 12px;\n",
              "    }\n",
              "\n",
              "    .colab-df-convert {\n",
              "      background-color: #E8F0FE;\n",
              "      border: none;\n",
              "      border-radius: 50%;\n",
              "      cursor: pointer;\n",
              "      display: none;\n",
              "      fill: #1967D2;\n",
              "      height: 32px;\n",
              "      padding: 0 0 0 0;\n",
              "      width: 32px;\n",
              "    }\n",
              "\n",
              "    .colab-df-convert:hover {\n",
              "      background-color: #E2EBFA;\n",
              "      box-shadow: 0px 1px 2px rgba(60, 64, 67, 0.3), 0px 1px 3px 1px rgba(60, 64, 67, 0.15);\n",
              "      fill: #174EA6;\n",
              "    }\n",
              "\n",
              "    [theme=dark] .colab-df-convert {\n",
              "      background-color: #3B4455;\n",
              "      fill: #D2E3FC;\n",
              "    }\n",
              "\n",
              "    [theme=dark] .colab-df-convert:hover {\n",
              "      background-color: #434B5C;\n",
              "      box-shadow: 0px 1px 3px 1px rgba(0, 0, 0, 0.15);\n",
              "      filter: drop-shadow(0px 1px 2px rgba(0, 0, 0, 0.3));\n",
              "      fill: #FFFFFF;\n",
              "    }\n",
              "  </style>\n",
              "\n",
              "      <script>\n",
              "        const buttonEl =\n",
              "          document.querySelector('#df-2aa7c16e-7b00-4cc5-8b1f-585338d5d080 button.colab-df-convert');\n",
              "        buttonEl.style.display =\n",
              "          google.colab.kernel.accessAllowed ? 'block' : 'none';\n",
              "\n",
              "        async function convertToInteractive(key) {\n",
              "          const element = document.querySelector('#df-2aa7c16e-7b00-4cc5-8b1f-585338d5d080');\n",
              "          const dataTable =\n",
              "            await google.colab.kernel.invokeFunction('convertToInteractive',\n",
              "                                                     [key], {});\n",
              "          if (!dataTable) return;\n",
              "\n",
              "          const docLinkHtml = 'Like what you see? Visit the ' +\n",
              "            '<a target=\"_blank\" href=https://colab.research.google.com/notebooks/data_table.ipynb>data table notebook</a>'\n",
              "            + ' to learn more about interactive tables.';\n",
              "          element.innerHTML = '';\n",
              "          dataTable['output_type'] = 'display_data';\n",
              "          await google.colab.output.renderOutput(dataTable, element);\n",
              "          const docLink = document.createElement('div');\n",
              "          docLink.innerHTML = docLinkHtml;\n",
              "          element.appendChild(docLink);\n",
              "        }\n",
              "      </script>\n",
              "    </div>\n",
              "  </div>\n",
              "  "
            ]
          },
          "metadata": {},
          "execution_count": 231
        }
      ]
    },
    {
      "cell_type": "code",
      "source": [
        "data_1.info()"
      ],
      "metadata": {
        "colab": {
          "base_uri": "https://localhost:8080/"
        },
        "id": "oO0N35bmZ19M",
        "outputId": "a8dfab9f-68df-44ff-c6a0-c399bfbf9776"
      },
      "execution_count": 232,
      "outputs": [
        {
          "output_type": "stream",
          "name": "stdout",
          "text": [
            "<class 'pandas.core.frame.DataFrame'>\n",
            "Int64Index: 145 entries, 0 to 195\n",
            "Data columns (total 8 columns):\n",
            " #   Column                     Non-Null Count  Dtype  \n",
            "---  ------                     --------------  -----  \n",
            " 0   grade_demo_loc             145 non-null    float64\n",
            " 1   percent_of_cutoff          145 non-null    float64\n",
            " 2   Are_Both_Parents_Employed  145 non-null    int64  \n",
            " 3   HS_Private                 145 non-null    int64  \n",
            " 4   HS_Public                  145 non-null    int64  \n",
            " 5   HS_SUCs/LUCs               145 non-null    int64  \n",
            " 6   Is_UPD                     145 non-null    int64  \n",
            " 7   status                     145 non-null    object \n",
            "dtypes: float64(2), int64(5), object(1)\n",
            "memory usage: 10.2+ KB\n"
          ]
        }
      ]
    },
    {
      "cell_type": "markdown",
      "source": [
        "## Train Test Split"
      ],
      "metadata": {
        "id": "W_CyO0mOJI1J"
      }
    },
    {
      "cell_type": "code",
      "source": [
        "X = data_1.drop('status',axis=1)\n",
        "y = data_1['status']"
      ],
      "metadata": {
        "id": "lndxzvPhGl29"
      },
      "execution_count": 417,
      "outputs": []
    },
    {
      "cell_type": "code",
      "source": [
        "X_train, X_test, y_train, y_test = train_test_split(X, y, test_size=0.30, random_state = 42)"
      ],
      "metadata": {
        "id": "lsQb40D1GzUk"
      },
      "execution_count": 418,
      "outputs": []
    },
    {
      "cell_type": "code",
      "source": [
        "dtree = DecisionTreeClassifier(criterion = 'gini', max_leaf_nodes = 5, max_depth = 10)\n",
        "#criterion = gini, max leaf nodes =5 max_depth = 8 0.25 0.70 0.66\n",
        "#criterion = gini, max leaf nodes =2 max_depth = 10 0.27 0.67 0.53\n",
        "#criterion = gini, max leaf nodes =10 max_depth = 10 0.29 0.70 0.50\n",
        "#criterion = gini, max leaf nodes =5 max_depth = 10 0.25, 0.60 0.66"
      ],
      "metadata": {
        "id": "uIVXgakyJhkX"
      },
      "execution_count": 436,
      "outputs": []
    },
    {
      "cell_type": "code",
      "source": [
        "dtree.fit(X_train,y_train)\n",
        "predictions = dtree.predict(X_test)"
      ],
      "metadata": {
        "id": "QiF8NugMJjqu"
      },
      "execution_count": 437,
      "outputs": []
    },
    {
      "cell_type": "code",
      "source": [
        "print(classification_report(y_test,predictions))"
      ],
      "metadata": {
        "colab": {
          "base_uri": "https://localhost:8080/"
        },
        "id": "Ea9g1MYpJwub",
        "outputId": "21eecf1b-0188-4acc-efc9-f1c608783526"
      },
      "execution_count": 438,
      "outputs": [
        {
          "output_type": "stream",
          "name": "stdout",
          "text": [
            "              precision    recall  f1-score   support\n",
            "\n",
            "Disqualified       0.25      0.08      0.12        13\n",
            "   Graduated       0.70      0.90      0.79        31\n",
            "\n",
            "    accuracy                           0.66        44\n",
            "   macro avg       0.47      0.49      0.45        44\n",
            "weighted avg       0.57      0.66      0.59        44\n",
            "\n"
          ]
        }
      ]
    },
    {
      "cell_type": "code",
      "source": [
        "print(confusion_matrix(y_test,predictions))"
      ],
      "metadata": {
        "colab": {
          "base_uri": "https://localhost:8080/"
        },
        "id": "cAu7IzU3J3KK",
        "outputId": "129d8a2a-8cfc-463f-e43a-e77e567e2af6"
      },
      "execution_count": 367,
      "outputs": [
        {
          "output_type": "stream",
          "name": "stdout",
          "text": [
            "[[ 6  4]\n",
            " [11  9]]\n"
          ]
        }
      ]
    },
    {
      "cell_type": "markdown",
      "source": [
        "## Visualization Attempts - Decision Tree"
      ],
      "metadata": {
        "id": "lSUnRqI2LVVk"
      }
    },
    {
      "cell_type": "code",
      "source": [
        "!pip install pydot\n",
        "!pip install six\n",
        "!pip install graphviz"
      ],
      "metadata": {
        "colab": {
          "base_uri": "https://localhost:8080/"
        },
        "id": "CUTXfgfJK1wc",
        "outputId": "2c514a73-9f13-4199-93b2-e24ff1029773"
      },
      "execution_count": 209,
      "outputs": [
        {
          "output_type": "stream",
          "name": "stdout",
          "text": [
            "Looking in indexes: https://pypi.org/simple, https://us-python.pkg.dev/colab-wheels/public/simple/\n",
            "Requirement already satisfied: pydot in /usr/local/lib/python3.8/dist-packages (1.3.0)\n",
            "Requirement already satisfied: pyparsing>=2.1.4 in /usr/local/lib/python3.8/dist-packages (from pydot) (3.0.9)\n",
            "Looking in indexes: https://pypi.org/simple, https://us-python.pkg.dev/colab-wheels/public/simple/\n",
            "Requirement already satisfied: six in /usr/local/lib/python3.8/dist-packages (1.15.0)\n",
            "Looking in indexes: https://pypi.org/simple, https://us-python.pkg.dev/colab-wheels/public/simple/\n",
            "Requirement already satisfied: graphviz in /usr/local/lib/python3.8/dist-packages (0.10.1)\n"
          ]
        }
      ]
    },
    {
      "cell_type": "code",
      "source": [
        "from IPython.display import Image  \n",
        "from six import StringIO\n",
        "# from sklearn.externals.six import StringIO  \n",
        "from sklearn.tree import export_graphviz\n",
        "import pydot "
      ],
      "metadata": {
        "id": "EzmX68bDLcwq"
      },
      "execution_count": 210,
      "outputs": []
    },
    {
      "cell_type": "code",
      "source": [
        "features = list(data_1.drop('status', axis = 1))\n",
        "features"
      ],
      "metadata": {
        "colab": {
          "base_uri": "https://localhost:8080/"
        },
        "id": "O4t5L34bLf_G",
        "outputId": "775963f1-0285-4b91-b1dd-9b0431181f5e"
      },
      "execution_count": 211,
      "outputs": [
        {
          "output_type": "execute_result",
          "data": {
            "text/plain": [
              "['grade_demo_loc',\n",
              " 'percent_of_cutoff',\n",
              " 'Are_Both_Parents_Employed',\n",
              " 'HS_Private',\n",
              " 'HS_Public',\n",
              " 'HS_SUCs/LUCs',\n",
              " 'Is_UPD']"
            ]
          },
          "metadata": {},
          "execution_count": 211
        }
      ]
    },
    {
      "cell_type": "code",
      "source": [
        "dot_data = StringIO()  \n",
        "export_graphviz(dtree, out_file=dot_data, feature_names=features,filled=True,rounded=True)\n",
        "graph = pydot.graph_from_dot_data(dot_data.getvalue())  \n",
        "\n",
        "graph"
      ],
      "metadata": {
        "colab": {
          "base_uri": "https://localhost:8080/"
        },
        "id": "0SkyjqJ0L1SU",
        "outputId": "ac3d2605-3d57-4d25-d9e8-b4b3bbe43376"
      },
      "execution_count": 224,
      "outputs": [
        {
          "output_type": "execute_result",
          "data": {
            "text/plain": [
              "[<pydot.Dot at 0x7f8f6ff25e50>]"
            ]
          },
          "metadata": {},
          "execution_count": 224
        }
      ]
    },
    {
      "cell_type": "code",
      "source": [
        "Image(graph[0].create_png()) "
      ],
      "metadata": {
        "colab": {
          "base_uri": "https://localhost:8080/",
          "height": 0
        },
        "id": "gRJhjXU9L9Q9",
        "outputId": "c4101b51-f452-4b77-883d-5347b1f9223c"
      },
      "execution_count": 225,
      "outputs": [
        {
          "output_type": "execute_result",
          "data": {
            "image/png": "[encoded data removed]",
            "text/plain": [
              "<IPython.core.display.Image object>"
            ]
          },
          "metadata": {},
          "execution_count": 225
        }
      ]
    },
    {
      "cell_type": "markdown",
      "source": [
        "## Random Forest"
      ],
      "metadata": {
        "id": "6F5xs1f1TxyG"
      }
    },
    {
      "cell_type": "code",
      "source": [
        "from sklearn.ensemble import RandomForestClassifier\n",
        "rfc = RandomForestClassifier(n_estimators=100, min_samples_split = 5, max_features = 2) \n",
        "\n",
        "#5 max features, 50 estimators min split = 20  0.35, 0.70, 0.47\n",
        "#2 max features, 50 estimators min split = 10  0.35, 0.69, 0.5\n",
        "#2 max features, 100 estimators min split = 10  0.39 0.75, 0.53\n",
        "#2 max features, 100 estimators min split = 5  0.36 0.69, 0.53\n",
        "rfc"
      ],
      "metadata": {
        "colab": {
          "base_uri": "https://localhost:8080/"
        },
        "id": "twlGwHypT1Cu",
        "outputId": "5badf625-4761-439f-f90e-e656b697f305"
      },
      "execution_count": 410,
      "outputs": [
        {
          "output_type": "execute_result",
          "data": {
            "text/plain": [
              "RandomForestClassifier(max_features=2, min_samples_split=5)"
            ]
          },
          "metadata": {},
          "execution_count": 410
        }
      ]
    },
    {
      "cell_type": "code",
      "source": [
        "rfc.fit(X_train, y_train)\n",
        "rfc_pred = rfc.predict(X_test)"
      ],
      "metadata": {
        "id": "vK36MlxrZE7q"
      },
      "execution_count": 411,
      "outputs": []
    },
    {
      "cell_type": "code",
      "source": [
        "print(classification_report(y_test,rfc_pred))"
      ],
      "metadata": {
        "colab": {
          "base_uri": "https://localhost:8080/"
        },
        "id": "gQEnUytsZLBj",
        "outputId": "40d5d59d-7f2d-454c-fe81-fd8a622f0b13"
      },
      "execution_count": 412,
      "outputs": [
        {
          "output_type": "stream",
          "name": "stdout",
          "text": [
            "              precision    recall  f1-score   support\n",
            "\n",
            "Disqualified       0.36      0.50      0.42        10\n",
            "   Graduated       0.69      0.55      0.61        20\n",
            "\n",
            "    accuracy                           0.53        30\n",
            "   macro avg       0.52      0.53      0.51        30\n",
            "weighted avg       0.58      0.53      0.55        30\n",
            "\n"
          ]
        }
      ]
    },
    {
      "cell_type": "code",
      "source": [
        "print(confusion_matrix(y_test,rfc_pred))"
      ],
      "metadata": {
        "colab": {
          "base_uri": "https://localhost:8080/"
        },
        "id": "-RXvmhspZKIT",
        "outputId": "31b8d62a-fae4-4697-ed11-82182791e756"
      },
      "execution_count": 405,
      "outputs": [
        {
          "output_type": "stream",
          "name": "stdout",
          "text": [
            "[[ 6  4]\n",
            " [11  9]]\n"
          ]
        }
      ]
    },
    {
      "cell_type": "markdown",
      "source": [
        "## Selecting Features for UPD"
      ],
      "metadata": {
        "id": "EIxk1MmNc-hG"
      }
    },
    {
      "cell_type": "code",
      "source": [
        "data_upd = data_1.loc[data_1['Is_UPD'] == 1] #Excluding Provincial\n",
        "data_upd.head()"
      ],
      "metadata": {
        "colab": {
          "base_uri": "https://localhost:8080/",
          "height": 0
        },
        "id": "48b-RQ49dG2p",
        "outputId": "35e2dff3-c8de-4144-b534-45edc835611e"
      },
      "execution_count": 519,
      "outputs": [
        {
          "output_type": "execute_result",
          "data": {
            "text/plain": [
              "   grade_demo_loc  percent_of_cutoff  Are_Both_Parents_Employed  HS_Private  \\\n",
              "0       94.920000           0.522242                          0           0   \n",
              "1       92.980667           0.120000                          0           1   \n",
              "2       92.980667           0.430000                          1           0   \n",
              "3       86.500000           1.067593                          0           0   \n",
              "4       88.770000           1.533333                          1           1   \n",
              "\n",
              "   HS_Public  HS_SUCs/LUCs  Is_UPD        status  \n",
              "0          1             0       1     Graduated  \n",
              "1          0             0       1     Graduated  \n",
              "2          1             0       1     Graduated  \n",
              "3          0             1       1  Disqualified  \n",
              "4          0             0       1     Graduated  "
            ],
            "text/html": [
              "\n",
              "  <div id=\"df-720754e9-f8a2-416c-8f28-ea68731eb3d3\">\n",
              "    <div class=\"colab-df-container\">\n",
              "      <div>\n",
              "<style scoped>\n",
              "    .dataframe tbody tr th:only-of-type {\n",
              "        vertical-align: middle;\n",
              "    }\n",
              "\n",
              "    .dataframe tbody tr th {\n",
              "        vertical-align: top;\n",
              "    }\n",
              "\n",
              "    .dataframe thead th {\n",
              "        text-align: right;\n",
              "    }\n",
              "</style>\n",
              "<table border=\"1\" class=\"dataframe\">\n",
              "  <thead>\n",
              "    <tr style=\"text-align: right;\">\n",
              "      <th></th>\n",
              "      <th>grade_demo_loc</th>\n",
              "      <th>percent_of_cutoff</th>\n",
              "      <th>Are_Both_Parents_Employed</th>\n",
              "      <th>HS_Private</th>\n",
              "      <th>HS_Public</th>\n",
              "      <th>HS_SUCs/LUCs</th>\n",
              "      <th>Is_UPD</th>\n",
              "      <th>status</th>\n",
              "    </tr>\n",
              "  </thead>\n",
              "  <tbody>\n",
              "    <tr>\n",
              "      <th>0</th>\n",
              "      <td>94.920000</td>\n",
              "      <td>0.522242</td>\n",
              "      <td>0</td>\n",
              "      <td>0</td>\n",
              "      <td>1</td>\n",
              "      <td>0</td>\n",
              "      <td>1</td>\n",
              "      <td>Graduated</td>\n",
              "    </tr>\n",
              "    <tr>\n",
              "      <th>1</th>\n",
              "      <td>92.980667</td>\n",
              "      <td>0.120000</td>\n",
              "      <td>0</td>\n",
              "      <td>1</td>\n",
              "      <td>0</td>\n",
              "      <td>0</td>\n",
              "      <td>1</td>\n",
              "      <td>Graduated</td>\n",
              "    </tr>\n",
              "    <tr>\n",
              "      <th>2</th>\n",
              "      <td>92.980667</td>\n",
              "      <td>0.430000</td>\n",
              "      <td>1</td>\n",
              "      <td>0</td>\n",
              "      <td>1</td>\n",
              "      <td>0</td>\n",
              "      <td>1</td>\n",
              "      <td>Graduated</td>\n",
              "    </tr>\n",
              "    <tr>\n",
              "      <th>3</th>\n",
              "      <td>86.500000</td>\n",
              "      <td>1.067593</td>\n",
              "      <td>0</td>\n",
              "      <td>0</td>\n",
              "      <td>0</td>\n",
              "      <td>1</td>\n",
              "      <td>1</td>\n",
              "      <td>Disqualified</td>\n",
              "    </tr>\n",
              "    <tr>\n",
              "      <th>4</th>\n",
              "      <td>88.770000</td>\n",
              "      <td>1.533333</td>\n",
              "      <td>1</td>\n",
              "      <td>1</td>\n",
              "      <td>0</td>\n",
              "      <td>0</td>\n",
              "      <td>1</td>\n",
              "      <td>Graduated</td>\n",
              "    </tr>\n",
              "  </tbody>\n",
              "</table>\n",
              "</div>\n",
              "      <button class=\"colab-df-convert\" onclick=\"convertToInteractive('df-720754e9-f8a2-416c-8f28-ea68731eb3d3')\"\n",
              "              title=\"Convert this dataframe to an interactive table.\"\n",
              "              style=\"display:none;\">\n",
              "        \n",
              "  <svg xmlns=\"http://www.w3.org/2000/svg\" height=\"24px\"viewBox=\"0 0 24 24\"\n",
              "       width=\"24px\">\n",
              "    <path d=\"M0 0h24v24H0V0z\" fill=\"none\"/>\n",
              "    <path d=\"M18.56 5.44l.94 2.06.94-2.06 2.06-.94-2.06-.94-.94-2.06-.94 2.06-2.06.94zm-11 1L8.5 8.5l.94-2.06 2.06-.94-2.06-.94L8.5 2.5l-.94 2.06-2.06.94zm10 10l.94 2.06.94-2.06 2.06-.94-2.06-.94-.94-2.06-.94 2.06-2.06.94z\"/><path d=\"M17.41 7.96l-1.37-1.37c-.4-.4-.92-.59-1.43-.59-.52 0-1.04.2-1.43.59L10.3 9.45l-7.72 7.72c-.78.78-.78 2.05 0 2.83L4 21.41c.39.39.9.59 1.41.59.51 0 1.02-.2 1.41-.59l7.78-7.78 2.81-2.81c.8-.78.8-2.07 0-2.86zM5.41 20L4 18.59l7.72-7.72 1.47 1.35L5.41 20z\"/>\n",
              "  </svg>\n",
              "      </button>\n",
              "      \n",
              "  <style>\n",
              "    .colab-df-container {\n",
              "      display:flex;\n",
              "      flex-wrap:wrap;\n",
              "      gap: 12px;\n",
              "    }\n",
              "\n",
              "    .colab-df-convert {\n",
              "      background-color: #E8F0FE;\n",
              "      border: none;\n",
              "      border-radius: 50%;\n",
              "      cursor: pointer;\n",
              "      display: none;\n",
              "      fill: #1967D2;\n",
              "      height: 32px;\n",
              "      padding: 0 0 0 0;\n",
              "      width: 32px;\n",
              "    }\n",
              "\n",
              "    .colab-df-convert:hover {\n",
              "      background-color: #E2EBFA;\n",
              "      box-shadow: 0px 1px 2px rgba(60, 64, 67, 0.3), 0px 1px 3px 1px rgba(60, 64, 67, 0.15);\n",
              "      fill: #174EA6;\n",
              "    }\n",
              "\n",
              "    [theme=dark] .colab-df-convert {\n",
              "      background-color: #3B4455;\n",
              "      fill: #D2E3FC;\n",
              "    }\n",
              "\n",
              "    [theme=dark] .colab-df-convert:hover {\n",
              "      background-color: #434B5C;\n",
              "      box-shadow: 0px 1px 3px 1px rgba(0, 0, 0, 0.15);\n",
              "      filter: drop-shadow(0px 1px 2px rgba(0, 0, 0, 0.3));\n",
              "      fill: #FFFFFF;\n",
              "    }\n",
              "  </style>\n",
              "\n",
              "      <script>\n",
              "        const buttonEl =\n",
              "          document.querySelector('#df-720754e9-f8a2-416c-8f28-ea68731eb3d3 button.colab-df-convert');\n",
              "        buttonEl.style.display =\n",
              "          google.colab.kernel.accessAllowed ? 'block' : 'none';\n",
              "\n",
              "        async function convertToInteractive(key) {\n",
              "          const element = document.querySelector('#df-720754e9-f8a2-416c-8f28-ea68731eb3d3');\n",
              "          const dataTable =\n",
              "            await google.colab.kernel.invokeFunction('convertToInteractive',\n",
              "                                                     [key], {});\n",
              "          if (!dataTable) return;\n",
              "\n",
              "          const docLinkHtml = 'Like what you see? Visit the ' +\n",
              "            '<a target=\"_blank\" href=https://colab.research.google.com/notebooks/data_table.ipynb>data table notebook</a>'\n",
              "            + ' to learn more about interactive tables.';\n",
              "          element.innerHTML = '';\n",
              "          dataTable['output_type'] = 'display_data';\n",
              "          await google.colab.output.renderOutput(dataTable, element);\n",
              "          const docLink = document.createElement('div');\n",
              "          docLink.innerHTML = docLinkHtml;\n",
              "          element.appendChild(docLink);\n",
              "        }\n",
              "      </script>\n",
              "    </div>\n",
              "  </div>\n",
              "  "
            ]
          },
          "metadata": {},
          "execution_count": 519
        }
      ]
    },
    {
      "cell_type": "code",
      "source": [
        "data_upd.info()"
      ],
      "metadata": {
        "colab": {
          "base_uri": "https://localhost:8080/"
        },
        "id": "A1tkcHp8dZLr",
        "outputId": "7bbd349d-94ae-4d7e-efc5-24ebaaf20935"
      },
      "execution_count": 520,
      "outputs": [
        {
          "output_type": "stream",
          "name": "stdout",
          "text": [
            "<class 'pandas.core.frame.DataFrame'>\n",
            "Int64Index: 99 entries, 0 to 195\n",
            "Data columns (total 8 columns):\n",
            " #   Column                     Non-Null Count  Dtype  \n",
            "---  ------                     --------------  -----  \n",
            " 0   grade_demo_loc             99 non-null     float64\n",
            " 1   percent_of_cutoff          99 non-null     float64\n",
            " 2   Are_Both_Parents_Employed  99 non-null     int64  \n",
            " 3   HS_Private                 99 non-null     int64  \n",
            " 4   HS_Public                  99 non-null     int64  \n",
            " 5   HS_SUCs/LUCs               99 non-null     int64  \n",
            " 6   Is_UPD                     99 non-null     int64  \n",
            " 7   status                     99 non-null     object \n",
            "dtypes: float64(2), int64(5), object(1)\n",
            "memory usage: 7.0+ KB\n"
          ]
        }
      ]
    },
    {
      "cell_type": "markdown",
      "source": [
        "## Train Test Split for UPD"
      ],
      "metadata": {
        "id": "5Tp12bBCfo61"
      }
    },
    {
      "cell_type": "code",
      "source": [
        "X2 = data_upd.drop('status',axis=1)\n",
        "y2 = data_upd['status']"
      ],
      "metadata": {
        "id": "IAeuRZuSfgux"
      },
      "execution_count": 521,
      "outputs": []
    },
    {
      "cell_type": "code",
      "source": [
        "X2_train, X2_test, y2_train, y2_test = train_test_split(X2, y2, test_size=0.30, random_state = 42)"
      ],
      "metadata": {
        "id": "s2uXwxflfyGa"
      },
      "execution_count": 522,
      "outputs": []
    },
    {
      "cell_type": "code",
      "source": [
        "dtree2 = DecisionTreeClassifier(criterion = 'entropy', max_leaf_nodes=10, max_depth = 8)\n",
        "#gini maxleafnodes = 5 max depth = 5 0.35 0.69 0.5\n",
        "#gini maxleafnodes = 5 max depth = 10 0.35 0.69 0.5\n",
        "#gini maxleafnodes = 2 max depth = 5 0.37 0.73 0.5\n",
        "#gini maxleafnodes = 10 max depth = 5 0.38 0.71 0.53\n",
        "#just gini 0.28, 0.58 0.4\n",
        "#just entropy 0.37, 0.73, 0.5\n",
        "#entropy maxleafnored = 10 max depth = 8 0.4 0.73 0.58"
      ],
      "metadata": {
        "id": "p92sbnhtfzcx"
      },
      "execution_count": 523,
      "outputs": []
    },
    {
      "cell_type": "code",
      "source": [
        "dtree2.fit(X2_train,y2_train)\n",
        "predictions2 = dtree2.predict(X2_test)"
      ],
      "metadata": {
        "id": "6g-UIr81f0h0"
      },
      "execution_count": 524,
      "outputs": []
    },
    {
      "cell_type": "code",
      "source": [
        "print(classification_report(y2_test,predictions2))"
      ],
      "metadata": {
        "colab": {
          "base_uri": "https://localhost:8080/"
        },
        "id": "xroc2940f3rS",
        "outputId": "6eb8e547-69b8-4a8a-c666-748c620cab2f"
      },
      "execution_count": 525,
      "outputs": [
        {
          "output_type": "stream",
          "name": "stdout",
          "text": [
            "              precision    recall  f1-score   support\n",
            "\n",
            "Disqualified       0.40      0.60      0.48        10\n",
            "   Graduated       0.73      0.55      0.63        20\n",
            "\n",
            "    accuracy                           0.57        30\n",
            "   macro avg       0.57      0.57      0.55        30\n",
            "weighted avg       0.62      0.57      0.58        30\n",
            "\n"
          ]
        }
      ]
    },
    {
      "cell_type": "code",
      "source": [
        "print(confusion_matrix(y_test,predictions))"
      ],
      "metadata": {
        "colab": {
          "base_uri": "https://localhost:8080/"
        },
        "id": "5g-6vwNef4z8",
        "outputId": "883ed413-3b04-4dea-b03a-d130df8cb1a5"
      },
      "execution_count": 458,
      "outputs": [
        {
          "output_type": "stream",
          "name": "stdout",
          "text": [
            "[[ 6  7]\n",
            " [15 16]]\n"
          ]
        }
      ]
    },
    {
      "cell_type": "markdown",
      "source": [
        "## Logistic Regression ALL"
      ],
      "metadata": {
        "id": "4Mlj0Qo5i6ol"
      }
    },
    {
      "cell_type": "code",
      "source": [
        "from sklearn.linear_model import LogisticRegression"
      ],
      "metadata": {
        "id": "Fu0ITDAWi-w3"
      },
      "execution_count": 484,
      "outputs": []
    },
    {
      "cell_type": "code",
      "source": [
        "logmodel = LogisticRegression(max_iter = 20)\n",
        "#no tuning 0.43, 0.77 0.66\n",
        "#max iter = 1000 0.46, 0.77 0.68\n",
        "#max iter = 500 sag 0.55, 0.79 0.73\n",
        "#max iter = 300 saga 0, 0.7 0.7\n",
        "\n",
        "#lbfgs\n",
        "logmodel.fit(X_train,y_train)\n",
        "predictions = logmodel.predict(X_test)\n",
        "logmodel.score(X_test, y_test)"
      ],
      "metadata": {
        "colab": {
          "base_uri": "https://localhost:8080/"
        },
        "id": "E_FmibFEjCAX",
        "outputId": "2b82a63d-5f89-40ba-f1bc-46a77572c84a"
      },
      "execution_count": 531,
      "outputs": [
        {
          "output_type": "stream",
          "name": "stderr",
          "text": [
            "/usr/local/lib/python3.8/dist-packages/sklearn/linear_model/_logistic.py:814: ConvergenceWarning: lbfgs failed to converge (status=1):\n",
            "STOP: TOTAL NO. of ITERATIONS REACHED LIMIT.\n",
            "\n",
            "Increase the number of iterations (max_iter) or scale the data as shown in:\n",
            "    https://scikit-learn.org/stable/modules/preprocessing.html\n",
            "Please also refer to the documentation for alternative solver options:\n",
            "    https://scikit-learn.org/stable/modules/linear_model.html#logistic-regression\n",
            "  n_iter_i = _check_optimize_result(\n"
          ]
        },
        {
          "output_type": "execute_result",
          "data": {
            "text/plain": [
              "0.6818181818181818"
            ]
          },
          "metadata": {},
          "execution_count": 531
        }
      ]
    },
    {
      "cell_type": "code",
      "source": [
        "print(classification_report(y_test,predictions))"
      ],
      "metadata": {
        "colab": {
          "base_uri": "https://localhost:8080/"
        },
        "id": "V4SADZdfni8V",
        "outputId": "e468baae-2235-46e0-ec64-3ea886d923f0"
      },
      "execution_count": 506,
      "outputs": [
        {
          "output_type": "stream",
          "name": "stdout",
          "text": [
            "              precision    recall  f1-score   support\n",
            "\n",
            "Disqualified       0.00      0.00      0.00        13\n",
            "   Graduated       0.70      1.00      0.83        31\n",
            "\n",
            "    accuracy                           0.70        44\n",
            "   macro avg       0.35      0.50      0.41        44\n",
            "weighted avg       0.50      0.70      0.58        44\n",
            "\n"
          ]
        },
        {
          "output_type": "stream",
          "name": "stderr",
          "text": [
            "/usr/local/lib/python3.8/dist-packages/sklearn/metrics/_classification.py:1318: UndefinedMetricWarning: Precision and F-score are ill-defined and being set to 0.0 in labels with no predicted samples. Use `zero_division` parameter to control this behavior.\n",
            "  _warn_prf(average, modifier, msg_start, len(result))\n",
            "/usr/local/lib/python3.8/dist-packages/sklearn/metrics/_classification.py:1318: UndefinedMetricWarning: Precision and F-score are ill-defined and being set to 0.0 in labels with no predicted samples. Use `zero_division` parameter to control this behavior.\n",
            "  _warn_prf(average, modifier, msg_start, len(result))\n",
            "/usr/local/lib/python3.8/dist-packages/sklearn/metrics/_classification.py:1318: UndefinedMetricWarning: Precision and F-score are ill-defined and being set to 0.0 in labels with no predicted samples. Use `zero_division` parameter to control this behavior.\n",
            "  _warn_prf(average, modifier, msg_start, len(result))\n"
          ]
        }
      ]
    },
    {
      "cell_type": "markdown",
      "source": [
        "## Features 2"
      ],
      "metadata": {
        "id": "Bprdxq4durCP"
      }
    },
    {
      "cell_type": "code",
      "source": [
        "df.columns"
      ],
      "metadata": {
        "colab": {
          "base_uri": "https://localhost:8080/"
        },
        "id": "S_fWzbvEutBw",
        "outputId": "6a002e0b-c472-4e00-cf30-35159c706379"
      },
      "execution_count": 532,
      "outputs": [
        {
          "output_type": "execute_result",
          "data": {
            "text/plain": [
              "Index(['Unnamed: 0', 'Scholar_ID', 'Batch', 'Year_Graduated',\n",
              "       'Year_Disqualified', 'School', 'Course', 'status_og', 'High_School',\n",
              "       'hs_grade', 'income', 'Demographic_Location', 'Father_Occupation',\n",
              "       'Father_Annual_Salary', 'Mother_Occupation', 'Mother_Annual_Salary',\n",
              "       'siblings', 'status', 'Is_UPD', 'Is_Education', 'grade_demo_loc',\n",
              "       'grade_school_loc', 'HS_Sector', 'HS_Private', 'HS_Public',\n",
              "       'HS_SUCs/LUCs', 'urbanity', 'College_Within_Municipality/City',\n",
              "       'Is_F_employed', 'Is_M_employed', 'Are_Both_Parents_Employed',\n",
              "       'Is_Only_One_Parent_Employed', 'Income_Class', 'Is_Poor',\n",
              "       'percent_of_cutoff', 'Class_Poor', 'Class_Lower', 'Class_Lower_Middle',\n",
              "       'Class_Middle_Middle', 'Class_Upper_Middle', 'has_siblings',\n",
              "       'is_urban_high'],\n",
              "      dtype='object')"
            ]
          },
          "metadata": {},
          "execution_count": 532
        }
      ]
    },
    {
      "cell_type": "code",
      "source": [
        "feats_2 = ['hs_grade', 'income', 'has_siblings', 'grade_demo_loc', 'College_Within_Municipality/City', 'Is_F_employed', 'Is_M_employed', 'Is_Poor',  'is_urban_high', 'status']\n",
        "data_3 = data_0[feats_2] "
      ],
      "metadata": {
        "id": "l6yOszXnuu1r"
      },
      "execution_count": 536,
      "outputs": []
    },
    {
      "cell_type": "code",
      "source": [
        "X3 = data_3.drop('status',axis=1)\n",
        "y3 = data_3['status']"
      ],
      "metadata": {
        "id": "GY2L2qDIvZZ4"
      },
      "execution_count": 547,
      "outputs": []
    },
    {
      "cell_type": "code",
      "source": [
        "y3"
      ],
      "metadata": {
        "colab": {
          "base_uri": "https://localhost:8080/"
        },
        "id": "YAL8s6UpwQ9Q",
        "outputId": "f7b95f4a-896c-41d9-ae6b-bdeaa4d92e85"
      },
      "execution_count": 551,
      "outputs": [
        {
          "output_type": "execute_result",
          "data": {
            "text/plain": [
              "0         Graduated\n",
              "1         Graduated\n",
              "2         Graduated\n",
              "3      Disqualified\n",
              "4         Graduated\n",
              "           ...     \n",
              "159    Disqualified\n",
              "168    Disqualified\n",
              "172    Disqualified\n",
              "191    Disqualified\n",
              "195    Disqualified\n",
              "Name: status, Length: 145, dtype: object"
            ]
          },
          "metadata": {},
          "execution_count": 551
        }
      ]
    },
    {
      "cell_type": "code",
      "source": [
        "X3_train, X3_test, y3_train, y3_test = train_test_split(X3, y3, test_size=0.30, random_state = 42)"
      ],
      "metadata": {
        "id": "8CvpCrujvnU4"
      },
      "execution_count": 548,
      "outputs": []
    },
    {
      "cell_type": "code",
      "source": [
        "dtree3 = DecisionTreeClassifier()"
      ],
      "metadata": {
        "id": "wj9xGkGdvsCa"
      },
      "execution_count": 552,
      "outputs": []
    },
    {
      "cell_type": "code",
      "source": [
        "dtree3.fit(X3_train, y3_train)"
      ],
      "metadata": {
        "colab": {
          "base_uri": "https://localhost:8080/",
          "height": 311
        },
        "id": "17C95dwkvxwd",
        "outputId": "b7fc0d70-f5c2-425a-f1bb-20e66ca7de7e"
      },
      "execution_count": 553,
      "outputs": [
        {
          "output_type": "error",
          "ename": "ValueError",
          "evalue": "ignored",
          "traceback": [
            "\u001b[0;31m---------------------------------------------------------------------------\u001b[0m",
            "\u001b[0;31mValueError\u001b[0m                                Traceback (most recent call last)",
            "\u001b[0;32m<ipython-input-553-8d3a63ea9981>\u001b[0m in \u001b[0;36m<module>\u001b[0;34m\u001b[0m\n\u001b[0;32m----> 1\u001b[0;31m \u001b[0mdtree3\u001b[0m\u001b[0;34m.\u001b[0m\u001b[0mfit\u001b[0m\u001b[0;34m(\u001b[0m\u001b[0mX3_train\u001b[0m\u001b[0;34m,\u001b[0m \u001b[0my3_train\u001b[0m\u001b[0;34m)\u001b[0m\u001b[0;34m\u001b[0m\u001b[0;34m\u001b[0m\u001b[0m\n\u001b[0m",
            "\u001b[0;32m/usr/local/lib/python3.8/dist-packages/sklearn/tree/_classes.py\u001b[0m in \u001b[0;36mfit\u001b[0;34m(self, X, y, sample_weight, check_input, X_idx_sorted)\u001b[0m\n\u001b[1;32m    935\u001b[0m         \"\"\"\n\u001b[1;32m    936\u001b[0m \u001b[0;34m\u001b[0m\u001b[0m\n\u001b[0;32m--> 937\u001b[0;31m         super().fit(\n\u001b[0m\u001b[1;32m    938\u001b[0m             \u001b[0mX\u001b[0m\u001b[0;34m,\u001b[0m\u001b[0;34m\u001b[0m\u001b[0;34m\u001b[0m\u001b[0m\n\u001b[1;32m    939\u001b[0m             \u001b[0my\u001b[0m\u001b[0;34m,\u001b[0m\u001b[0;34m\u001b[0m\u001b[0;34m\u001b[0m\u001b[0m\n",
            "\u001b[0;32m/usr/local/lib/python3.8/dist-packages/sklearn/tree/_classes.py\u001b[0m in \u001b[0;36mfit\u001b[0;34m(self, X, y, sample_weight, check_input, X_idx_sorted)\u001b[0m\n\u001b[1;32m    163\u001b[0m             \u001b[0mcheck_X_params\u001b[0m \u001b[0;34m=\u001b[0m \u001b[0mdict\u001b[0m\u001b[0;34m(\u001b[0m\u001b[0mdtype\u001b[0m\u001b[0;34m=\u001b[0m\u001b[0mDTYPE\u001b[0m\u001b[0;34m,\u001b[0m \u001b[0maccept_sparse\u001b[0m\u001b[0;34m=\u001b[0m\u001b[0;34m\"csc\"\u001b[0m\u001b[0;34m)\u001b[0m\u001b[0;34m\u001b[0m\u001b[0;34m\u001b[0m\u001b[0m\n\u001b[1;32m    164\u001b[0m             \u001b[0mcheck_y_params\u001b[0m \u001b[0;34m=\u001b[0m \u001b[0mdict\u001b[0m\u001b[0;34m(\u001b[0m\u001b[0mensure_2d\u001b[0m\u001b[0;34m=\u001b[0m\u001b[0;32mFalse\u001b[0m\u001b[0;34m,\u001b[0m \u001b[0mdtype\u001b[0m\u001b[0;34m=\u001b[0m\u001b[0;32mNone\u001b[0m\u001b[0;34m)\u001b[0m\u001b[0;34m\u001b[0m\u001b[0;34m\u001b[0m\u001b[0m\n\u001b[0;32m--> 165\u001b[0;31m             X, y = self._validate_data(\n\u001b[0m\u001b[1;32m    166\u001b[0m                 \u001b[0mX\u001b[0m\u001b[0;34m,\u001b[0m \u001b[0my\u001b[0m\u001b[0;34m,\u001b[0m \u001b[0mvalidate_separately\u001b[0m\u001b[0;34m=\u001b[0m\u001b[0;34m(\u001b[0m\u001b[0mcheck_X_params\u001b[0m\u001b[0;34m,\u001b[0m \u001b[0mcheck_y_params\u001b[0m\u001b[0;34m)\u001b[0m\u001b[0;34m\u001b[0m\u001b[0;34m\u001b[0m\u001b[0m\n\u001b[1;32m    167\u001b[0m             )\n",
            "\u001b[0;32m/usr/local/lib/python3.8/dist-packages/sklearn/base.py\u001b[0m in \u001b[0;36m_validate_data\u001b[0;34m(self, X, y, reset, validate_separately, **check_params)\u001b[0m\n\u001b[1;32m    576\u001b[0m                 \u001b[0;31m# :(\u001b[0m\u001b[0;34m\u001b[0m\u001b[0;34m\u001b[0m\u001b[0;34m\u001b[0m\u001b[0m\n\u001b[1;32m    577\u001b[0m                 \u001b[0mcheck_X_params\u001b[0m\u001b[0;34m,\u001b[0m \u001b[0mcheck_y_params\u001b[0m \u001b[0;34m=\u001b[0m \u001b[0mvalidate_separately\u001b[0m\u001b[0;34m\u001b[0m\u001b[0;34m\u001b[0m\u001b[0m\n\u001b[0;32m--> 578\u001b[0;31m                 \u001b[0mX\u001b[0m \u001b[0;34m=\u001b[0m \u001b[0mcheck_array\u001b[0m\u001b[0;34m(\u001b[0m\u001b[0mX\u001b[0m\u001b[0;34m,\u001b[0m \u001b[0;34m**\u001b[0m\u001b[0mcheck_X_params\u001b[0m\u001b[0;34m)\u001b[0m\u001b[0;34m\u001b[0m\u001b[0;34m\u001b[0m\u001b[0m\n\u001b[0m\u001b[1;32m    579\u001b[0m                 \u001b[0my\u001b[0m \u001b[0;34m=\u001b[0m \u001b[0mcheck_array\u001b[0m\u001b[0;34m(\u001b[0m\u001b[0my\u001b[0m\u001b[0;34m,\u001b[0m \u001b[0;34m**\u001b[0m\u001b[0mcheck_y_params\u001b[0m\u001b[0;34m)\u001b[0m\u001b[0;34m\u001b[0m\u001b[0;34m\u001b[0m\u001b[0m\n\u001b[1;32m    580\u001b[0m             \u001b[0;32melse\u001b[0m\u001b[0;34m:\u001b[0m\u001b[0;34m\u001b[0m\u001b[0;34m\u001b[0m\u001b[0m\n",
            "\u001b[0;32m/usr/local/lib/python3.8/dist-packages/sklearn/utils/validation.py\u001b[0m in \u001b[0;36mcheck_array\u001b[0;34m(array, accept_sparse, accept_large_sparse, dtype, order, copy, force_all_finite, ensure_2d, allow_nd, ensure_min_samples, ensure_min_features, estimator)\u001b[0m\n\u001b[1;32m    798\u001b[0m \u001b[0;34m\u001b[0m\u001b[0m\n\u001b[1;32m    799\u001b[0m         \u001b[0;32mif\u001b[0m \u001b[0mforce_all_finite\u001b[0m\u001b[0;34m:\u001b[0m\u001b[0;34m\u001b[0m\u001b[0;34m\u001b[0m\u001b[0m\n\u001b[0;32m--> 800\u001b[0;31m             \u001b[0m_assert_all_finite\u001b[0m\u001b[0;34m(\u001b[0m\u001b[0marray\u001b[0m\u001b[0;34m,\u001b[0m \u001b[0mallow_nan\u001b[0m\u001b[0;34m=\u001b[0m\u001b[0mforce_all_finite\u001b[0m \u001b[0;34m==\u001b[0m \u001b[0;34m\"allow-nan\"\u001b[0m\u001b[0;34m)\u001b[0m\u001b[0;34m\u001b[0m\u001b[0;34m\u001b[0m\u001b[0m\n\u001b[0m\u001b[1;32m    801\u001b[0m \u001b[0;34m\u001b[0m\u001b[0m\n\u001b[1;32m    802\u001b[0m     \u001b[0;32mif\u001b[0m \u001b[0mensure_min_samples\u001b[0m \u001b[0;34m>\u001b[0m \u001b[0;36m0\u001b[0m\u001b[0;34m:\u001b[0m\u001b[0;34m\u001b[0m\u001b[0;34m\u001b[0m\u001b[0m\n",
            "\u001b[0;32m/usr/local/lib/python3.8/dist-packages/sklearn/utils/validation.py\u001b[0m in \u001b[0;36m_assert_all_finite\u001b[0;34m(X, allow_nan, msg_dtype)\u001b[0m\n\u001b[1;32m    112\u001b[0m         ):\n\u001b[1;32m    113\u001b[0m             \u001b[0mtype_err\u001b[0m \u001b[0;34m=\u001b[0m \u001b[0;34m\"infinity\"\u001b[0m \u001b[0;32mif\u001b[0m \u001b[0mallow_nan\u001b[0m \u001b[0;32melse\u001b[0m \u001b[0;34m\"NaN, infinity\"\u001b[0m\u001b[0;34m\u001b[0m\u001b[0;34m\u001b[0m\u001b[0m\n\u001b[0;32m--> 114\u001b[0;31m             raise ValueError(\n\u001b[0m\u001b[1;32m    115\u001b[0m                 msg_err.format(\n\u001b[1;32m    116\u001b[0m                     \u001b[0mtype_err\u001b[0m\u001b[0;34m,\u001b[0m \u001b[0mmsg_dtype\u001b[0m \u001b[0;32mif\u001b[0m \u001b[0mmsg_dtype\u001b[0m \u001b[0;32mis\u001b[0m \u001b[0;32mnot\u001b[0m \u001b[0;32mNone\u001b[0m \u001b[0;32melse\u001b[0m \u001b[0mX\u001b[0m\u001b[0;34m.\u001b[0m\u001b[0mdtype\u001b[0m\u001b[0;34m\u001b[0m\u001b[0;34m\u001b[0m\u001b[0m\n",
            "\u001b[0;31mValueError\u001b[0m: Input contains NaN, infinity or a value too large for dtype('float32')."
          ]
        }
      ]
    },
    {
      "cell_type": "code",
      "source": [
        "print(classification_report(y3_test,predictions3))"
      ],
      "metadata": {
        "id": "6vxyPOMvvz8z"
      },
      "execution_count": null,
      "outputs": []
    }
  ]
}