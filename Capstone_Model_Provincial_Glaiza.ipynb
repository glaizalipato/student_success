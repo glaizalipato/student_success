{
  "nbformat": 4,
  "nbformat_minor": 0,
  "metadata": {
    "colab": {
      "provenance": [],
      "authorship_tag": "ABX9TyNka0HN1eUq3sEiMpVxmSVa",
      "include_colab_link": true
    },
    "kernelspec": {
      "name": "python3",
      "display_name": "Python 3"
    },
    "language_info": {
      "name": "python"
    }
  },
  "cells": [
    {
      "cell_type": "markdown",
      "metadata": {
        "id": "view-in-github",
        "colab_type": "text"
      },
      "source": [
        "<a href=\"https://colab.research.google.com/github/glaizalipato/student_success/blob/main/Capstone_Model_Provincial_Glaiza.ipynb\" target=\"_parent\"><img src=\"https://colab.research.google.com/assets/colab-badge.svg\" alt=\"Open In Colab\"/></a>"
      ]
    },
    {
      "cell_type": "markdown",
      "source": [
        "#Import Packages"
      ],
      "metadata": {
        "id": "MYAPqsCluM-5"
      }
    },
    {
      "cell_type": "code",
      "execution_count": null,
      "metadata": {
        "id": "WwI0jejYuE2q"
      },
      "outputs": [],
      "source": [
        "import pandas as pd\n",
        "import numpy as np\n",
        "import matplotlib.pyplot as plt\n",
        "import seaborn as sns\n",
        "%matplotlib inline"
      ]
    },
    {
      "cell_type": "markdown",
      "source": [
        "#Sklearn Imports"
      ],
      "metadata": {
        "id": "SPGuzOlBB-6G"
      }
    },
    {
      "cell_type": "code",
      "source": [
        "from sklearn.model_selection import train_test_split\n",
        "from sklearn.linear_model import LogisticRegression\n",
        "from sklearn.metrics import classification_report\n",
        "from sklearn.metrics import accuracy_score\n",
        "from sklearn.metrics import confusion_matrix\n",
        "from sklearn.preprocessing import StandardScaler\n",
        "from sklearn.model_selection import GridSearchCV"
      ],
      "metadata": {
        "id": "Ss2AcXDjB3J_"
      },
      "execution_count": null,
      "outputs": []
    },
    {
      "cell_type": "markdown",
      "source": [
        "#Past Overall"
      ],
      "metadata": {
        "id": "CCcC3PzKCEMS"
      }
    },
    {
      "cell_type": "code",
      "source": [
        "provincial_url = 'https://raw.githubusercontent.com/plthrs/FTW-CapstoneProject-TeamEagle/main/past_prov.csv?token=GHSAT0AAAAAAB6WHWXJD7BWRJHAMGYCQVY6Y73XORQ'\n",
        "past_provincial = pd.read_csv(provincial_url, index_col=0)"
      ],
      "metadata": {
        "id": "SLlkKYSluU2V"
      },
      "execution_count": null,
      "outputs": []
    },
    {
      "cell_type": "code",
      "source": [
        "past_provincial.shape"
      ],
      "metadata": {
        "colab": {
          "base_uri": "https://localhost:8080/"
        },
        "id": "AqQu0g3zuqZ0",
        "outputId": "d3cc2c7e-dbf4-4d03-a441-5c9dfc133428"
      },
      "execution_count": null,
      "outputs": [
        {
          "output_type": "execute_result",
          "data": {
            "text/plain": [
              "(46, 20)"
            ]
          },
          "metadata": {},
          "execution_count": 4
        }
      ]
    },
    {
      "cell_type": "code",
      "source": [
        "past_provincial.columns"
      ],
      "metadata": {
        "colab": {
          "base_uri": "https://localhost:8080/"
        },
        "id": "M6Ze4RmWyXIE",
        "outputId": "2732708a-cd32-444a-e6a6-1d08427d3ff1"
      },
      "execution_count": null,
      "outputs": [
        {
          "output_type": "execute_result",
          "data": {
            "text/plain": [
              "Index(['Graduated', 'HS_Avg_Grade_imputed_based_on_school_loc', 'HS_Private',\n",
              "       'HS_Public', 'HS_SUCs/LUCs', 'Percent_of_Income_Cutoff', 'Class_Poor',\n",
              "       'Class_Lower', 'Class_Lower_Middle', 'Class_Middle_Middle',\n",
              "       'Class_Upper_Middle', 'Is_More_Urbanized_Location',\n",
              "       'Is_Fam_Size_Below_Ave', 'School_Within_Municipality',\n",
              "       'School_Outside_Municipality_but_Within_Province',\n",
              "       'School_Outside_Province_but_Within_Region', 'School_Outside_Region',\n",
              "       'Both_Parent_Unemployed', 'Only_One_Parent_Emmployed',\n",
              "       'Both_Parent_Employed'],\n",
              "      dtype='object')"
            ]
          },
          "metadata": {},
          "execution_count": 5
        }
      ]
    },
    {
      "cell_type": "code",
      "source": [
        "past_provincial.info()"
      ],
      "metadata": {
        "colab": {
          "base_uri": "https://localhost:8080/"
        },
        "id": "85nnJhQ4vPQa",
        "outputId": "b8badb04-9e2c-4926-9551-bac62511513d"
      },
      "execution_count": null,
      "outputs": [
        {
          "output_type": "stream",
          "name": "stdout",
          "text": [
            "<class 'pandas.core.frame.DataFrame'>\n",
            "Float64Index: 46 entries, 2015061.0 to 2020192.0\n",
            "Data columns (total 20 columns):\n",
            " #   Column                                           Non-Null Count  Dtype  \n",
            "---  ------                                           --------------  -----  \n",
            " 0   Graduated                                        46 non-null     int64  \n",
            " 1   HS_Avg_Grade_imputed_based_on_school_loc         46 non-null     float64\n",
            " 2   HS_Private                                       46 non-null     int64  \n",
            " 3   HS_Public                                        46 non-null     int64  \n",
            " 4   HS_SUCs/LUCs                                     46 non-null     int64  \n",
            " 5   Percent_of_Income_Cutoff                         46 non-null     float64\n",
            " 6   Class_Poor                                       46 non-null     int64  \n",
            " 7   Class_Lower                                      46 non-null     int64  \n",
            " 8   Class_Lower_Middle                               46 non-null     int64  \n",
            " 9   Class_Middle_Middle                              46 non-null     int64  \n",
            " 10  Class_Upper_Middle                               46 non-null     int64  \n",
            " 11  Is_More_Urbanized_Location                       46 non-null     int64  \n",
            " 12  Is_Fam_Size_Below_Ave                            46 non-null     int64  \n",
            " 13  School_Within_Municipality                       46 non-null     int64  \n",
            " 14  School_Outside_Municipality_but_Within_Province  46 non-null     int64  \n",
            " 15  School_Outside_Province_but_Within_Region        46 non-null     int64  \n",
            " 16  School_Outside_Region                            46 non-null     int64  \n",
            " 17  Both_Parent_Unemployed                           46 non-null     int64  \n",
            " 18  Only_One_Parent_Emmployed                        46 non-null     int64  \n",
            " 19  Both_Parent_Employed                             46 non-null     int64  \n",
            "dtypes: float64(2), int64(18)\n",
            "memory usage: 7.5 KB\n"
          ]
        }
      ]
    },
    {
      "cell_type": "markdown",
      "source": [
        "#Trial 1"
      ],
      "metadata": {
        "id": "TI6ZL8QJCm9x"
      }
    },
    {
      "cell_type": "code",
      "source": [
        "X = past_provincial.drop('Graduated', axis=1)\n",
        "y = past_provincial['Graduated']"
      ],
      "metadata": {
        "id": "ik_DdP39jRpn"
      },
      "execution_count": null,
      "outputs": []
    },
    {
      "cell_type": "code",
      "source": [
        "X_train, X_test, y_train, y_test = train_test_split(X, y, test_size=0.30, random_state =1)"
      ],
      "metadata": {
        "id": "TxLExgUlCrh9"
      },
      "execution_count": null,
      "outputs": []
    },
    {
      "cell_type": "code",
      "source": [
        "logmodel = LogisticRegression()\n",
        "logmodel.fit(X_train,y_train)"
      ],
      "metadata": {
        "colab": {
          "base_uri": "https://localhost:8080/"
        },
        "id": "ehDnLRtyT756",
        "outputId": "2c70f12f-5d47-4b8b-e6bc-d77e1c9b24ce"
      },
      "execution_count": null,
      "outputs": [
        {
          "output_type": "stream",
          "name": "stderr",
          "text": [
            "/usr/local/lib/python3.8/dist-packages/sklearn/linear_model/_logistic.py:814: ConvergenceWarning: lbfgs failed to converge (status=1):\n",
            "STOP: TOTAL NO. of ITERATIONS REACHED LIMIT.\n",
            "\n",
            "Increase the number of iterations (max_iter) or scale the data as shown in:\n",
            "    https://scikit-learn.org/stable/modules/preprocessing.html\n",
            "Please also refer to the documentation for alternative solver options:\n",
            "    https://scikit-learn.org/stable/modules/linear_model.html#logistic-regression\n",
            "  n_iter_i = _check_optimize_result(\n"
          ]
        },
        {
          "output_type": "execute_result",
          "data": {
            "text/plain": [
              "LogisticRegression()"
            ]
          },
          "metadata": {},
          "execution_count": 9
        }
      ]
    },
    {
      "cell_type": "code",
      "source": [
        "predictions = logmodel.predict(X_test)"
      ],
      "metadata": {
        "id": "Hh-dtgz3T9R7"
      },
      "execution_count": null,
      "outputs": []
    },
    {
      "cell_type": "code",
      "source": [
        "print(classification_report(y_test,predictions))"
      ],
      "metadata": {
        "colab": {
          "base_uri": "https://localhost:8080/"
        },
        "id": "4m1bxn67UAoR",
        "outputId": "cec8a4b3-c74c-4db2-a284-a33c2cc78060"
      },
      "execution_count": null,
      "outputs": [
        {
          "output_type": "stream",
          "name": "stdout",
          "text": [
            "              precision    recall  f1-score   support\n",
            "\n",
            "           0       0.00      0.00      0.00         4\n",
            "           1       0.69      0.90      0.78        10\n",
            "\n",
            "    accuracy                           0.64        14\n",
            "   macro avg       0.35      0.45      0.39        14\n",
            "weighted avg       0.49      0.64      0.56        14\n",
            "\n"
          ]
        }
      ]
    },
    {
      "cell_type": "code",
      "source": [
        "accuracy_score(y_test, predictions)"
      ],
      "metadata": {
        "colab": {
          "base_uri": "https://localhost:8080/"
        },
        "id": "lzD3Q08XUfZA",
        "outputId": "ba406fea-1aad-48f9-ebba-a9f309dbe75b"
      },
      "execution_count": null,
      "outputs": [
        {
          "output_type": "execute_result",
          "data": {
            "text/plain": [
              "0.6428571428571429"
            ]
          },
          "metadata": {},
          "execution_count": 12
        }
      ]
    },
    {
      "cell_type": "code",
      "source": [
        "logmodel.coef_"
      ],
      "metadata": {
        "colab": {
          "base_uri": "https://localhost:8080/"
        },
        "id": "oa9GW2uzJ3Hu",
        "outputId": "8ff99520-af06-45f4-bd58-d29b5f240132"
      },
      "execution_count": null,
      "outputs": [
        {
          "output_type": "execute_result",
          "data": {
            "text/plain": [
              "array([[-0.29259367,  0.09305473, -0.04934593,  0.        , -0.08631871,\n",
              "         0.0437088 ,  0.        ,  0.        ,  0.        ,  0.        ,\n",
              "        -0.47912261, -0.01524564, -0.38361254,  0.27338177,  0.15393957,\n",
              "         0.        ,  0.46570688,  0.296844  , -0.71884208]])"
            ]
          },
          "metadata": {},
          "execution_count": 13
        }
      ]
    },
    {
      "cell_type": "markdown",
      "source": [
        "#Trial 2"
      ],
      "metadata": {
        "id": "y4VpLmAjWGk2"
      }
    },
    {
      "cell_type": "code",
      "source": [
        "X = past_provincial[['HS_Avg_Grade_imputed_based_on_school_loc', 'HS_Private', 'Percent_of_Income_Cutoff','Is_More_Urbanized_Location',\n",
        "       'Is_Fam_Size_Below_Ave',\n",
        "       'School_Outside_Municipality_but_Within_Province',\n",
        "       'Both_Parent_Employed']]\n",
        "y = past_provincial['Graduated']"
      ],
      "metadata": {
        "id": "vhxfCwsKWGk3"
      },
      "execution_count": null,
      "outputs": []
    },
    {
      "cell_type": "code",
      "source": [
        "X_train, X_test, y_train, y_test = train_test_split(X, y, test_size=0.30, random_state =1)"
      ],
      "metadata": {
        "id": "7t9qtz5jWGk3"
      },
      "execution_count": null,
      "outputs": []
    },
    {
      "cell_type": "code",
      "source": [
        "logmodel = LogisticRegression()\n",
        "logmodel.fit(X_train,y_train)"
      ],
      "metadata": {
        "colab": {
          "base_uri": "https://localhost:8080/"
        },
        "outputId": "d6d08572-30ef-4c54-b67c-0425516b7a85",
        "id": "i3F145daWGk3"
      },
      "execution_count": null,
      "outputs": [
        {
          "output_type": "execute_result",
          "data": {
            "text/plain": [
              "LogisticRegression()"
            ]
          },
          "metadata": {},
          "execution_count": 40
        }
      ]
    },
    {
      "cell_type": "code",
      "source": [
        "predictions = logmodel.predict(X_test)"
      ],
      "metadata": {
        "id": "ki3mHZBQWGk3"
      },
      "execution_count": null,
      "outputs": []
    },
    {
      "cell_type": "code",
      "source": [
        "print(classification_report(y_test,predictions))"
      ],
      "metadata": {
        "colab": {
          "base_uri": "https://localhost:8080/"
        },
        "outputId": "cdfe3e01-ab40-400d-b634-0353c92c09fc",
        "id": "yjSMZYaXWGk4"
      },
      "execution_count": null,
      "outputs": [
        {
          "output_type": "stream",
          "name": "stdout",
          "text": [
            "              precision    recall  f1-score   support\n",
            "\n",
            "           0       0.00      0.00      0.00         4\n",
            "           1       0.71      1.00      0.83        10\n",
            "\n",
            "    accuracy                           0.71        14\n",
            "   macro avg       0.36      0.50      0.42        14\n",
            "weighted avg       0.51      0.71      0.60        14\n",
            "\n"
          ]
        },
        {
          "output_type": "stream",
          "name": "stderr",
          "text": [
            "/usr/local/lib/python3.8/dist-packages/sklearn/metrics/_classification.py:1318: UndefinedMetricWarning: Precision and F-score are ill-defined and being set to 0.0 in labels with no predicted samples. Use `zero_division` parameter to control this behavior.\n",
            "  _warn_prf(average, modifier, msg_start, len(result))\n",
            "/usr/local/lib/python3.8/dist-packages/sklearn/metrics/_classification.py:1318: UndefinedMetricWarning: Precision and F-score are ill-defined and being set to 0.0 in labels with no predicted samples. Use `zero_division` parameter to control this behavior.\n",
            "  _warn_prf(average, modifier, msg_start, len(result))\n",
            "/usr/local/lib/python3.8/dist-packages/sklearn/metrics/_classification.py:1318: UndefinedMetricWarning: Precision and F-score are ill-defined and being set to 0.0 in labels with no predicted samples. Use `zero_division` parameter to control this behavior.\n",
            "  _warn_prf(average, modifier, msg_start, len(result))\n"
          ]
        }
      ]
    },
    {
      "cell_type": "code",
      "source": [
        "accuracy_score(y_test, predictions)"
      ],
      "metadata": {
        "colab": {
          "base_uri": "https://localhost:8080/"
        },
        "outputId": "cab0c3d8-e422-4076-b1e9-24ce0a45c3e5",
        "id": "4C-4TTzJWGk4"
      },
      "execution_count": null,
      "outputs": [
        {
          "output_type": "execute_result",
          "data": {
            "text/plain": [
              "0.7142857142857143"
            ]
          },
          "metadata": {},
          "execution_count": 43
        }
      ]
    },
    {
      "cell_type": "code",
      "source": [
        "logmodel.coef_"
      ],
      "metadata": {
        "colab": {
          "base_uri": "https://localhost:8080/"
        },
        "outputId": "4b19f5f3-3689-4950-8371-e277328932ad",
        "id": "2liGx-PzWGk4"
      },
      "execution_count": null,
      "outputs": [
        {
          "output_type": "execute_result",
          "data": {
            "text/plain": [
              "array([[-0.29125609,  0.21654158, -0.07354343, -0.60206281, -0.06751827,\n",
              "         0.349967  , -0.87570503]])"
            ]
          },
          "metadata": {},
          "execution_count": 44
        }
      ]
    },
    {
      "cell_type": "markdown",
      "source": [
        "#Trial 3\n",
        "\n",
        "https://towardsdatascience.com/feature-selection-using-logistic-regression-model-efc949569f58"
      ],
      "metadata": {
        "id": "_bFl-CqVHpCh"
      }
    },
    {
      "cell_type": "code",
      "source": [
        "X = past_provincial.drop('Graduated', axis=1)\n",
        "y = past_provincial['Graduated']"
      ],
      "metadata": {
        "id": "CCEkgQtvLEUg"
      },
      "execution_count": null,
      "outputs": []
    },
    {
      "cell_type": "code",
      "source": [
        "# Standardize the train and test sample\n",
        "scaler = StandardScaler()\n",
        "X_std = scaler.fit_transform(X)"
      ],
      "metadata": {
        "id": "jArdFFoWHlUO"
      },
      "execution_count": null,
      "outputs": []
    },
    {
      "cell_type": "code",
      "source": [
        "X_train, X_test, y_train, y_test = train_test_split(X_std, y, test_size=0.30, random_state =1)"
      ],
      "metadata": {
        "id": "f_uwZ34nHwsk"
      },
      "execution_count": null,
      "outputs": []
    },
    {
      "cell_type": "code",
      "source": [
        "# Perform GridSearchCV to tune best-fit LR model\n",
        "param = {'C': [10**-2,10**-1,10**0,10**1,10**2]}\n",
        "\n",
        "lr_model = LogisticRegression(penalty='l1', solver='liblinear')\n",
        "gs_model = GridSearchCV(estimator=lr_model, param_grid=param)\n",
        "gs_model.fit(X_train, y_train)\n",
        "\n",
        "# Train a LR model with best parameters\n",
        "model = LogisticRegression(**gs_model.best_params_, penalty='l1', solver='liblinear')\n",
        "model.fit(X_train, y_train)"
      ],
      "metadata": {
        "colab": {
          "base_uri": "https://localhost:8080/"
        },
        "id": "Zyy8g06lGtwB",
        "outputId": "dd3f9a67-9a99-4420-86c3-d45c0242c230"
      },
      "execution_count": null,
      "outputs": [
        {
          "output_type": "execute_result",
          "data": {
            "text/plain": [
              "LogisticRegression(C=1, penalty='l1', solver='liblinear')"
            ]
          },
          "metadata": {},
          "execution_count": 48
        }
      ]
    },
    {
      "cell_type": "code",
      "source": [
        "model.coef_"
      ],
      "metadata": {
        "colab": {
          "base_uri": "https://localhost:8080/"
        },
        "id": "rW0HrlUxHCFy",
        "outputId": "742af682-90f0-435f-9169-b6ee401e1cce"
      },
      "execution_count": null,
      "outputs": [
        {
          "output_type": "execute_result",
          "data": {
            "text/plain": [
              "array([[-0.46238291,  0.        ,  0.        ,  0.        ,  0.        ,\n",
              "         0.        ,  0.        ,  0.        ,  0.        ,  0.        ,\n",
              "        -0.31781098,  0.        , -0.13627023,  0.        ,  0.        ,\n",
              "         0.        ,  0.15035474,  0.        , -0.48330044]])"
            ]
          },
          "metadata": {},
          "execution_count": 49
        }
      ]
    },
    {
      "cell_type": "markdown",
      "source": [
        "#Trial 4"
      ],
      "metadata": {
        "id": "mMTYvOMFKpgO"
      }
    },
    {
      "cell_type": "code",
      "source": [
        "X = past_provincial[['HS_Avg_Grade_imputed_based_on_school_loc',\n",
        "       'Is_Fam_Size_Below_Ave',\n",
        "       'School_Outside_Municipality_but_Within_Province',\n",
        "       'Both_Parent_Unemployed',\n",
        "       'Both_Parent_Employed']]\n",
        "y = past_provincial['Graduated']"
      ],
      "metadata": {
        "id": "ZtGgWnZVKtYI"
      },
      "execution_count": null,
      "outputs": []
    },
    {
      "cell_type": "code",
      "source": [
        "X_train, X_test, y_train, y_test = train_test_split(X, y, test_size=0.30, random_state =1)"
      ],
      "metadata": {
        "id": "BZBmXTHyLhZd"
      },
      "execution_count": null,
      "outputs": []
    },
    {
      "cell_type": "code",
      "source": [
        "logmodel = LogisticRegression()\n",
        "logmodel.fit(X_train,y_train)"
      ],
      "metadata": {
        "colab": {
          "base_uri": "https://localhost:8080/"
        },
        "id": "nrR2_58gLjhB",
        "outputId": "009f941b-0b6d-43b5-e7a4-642fb6ec0dd1"
      },
      "execution_count": null,
      "outputs": [
        {
          "output_type": "stream",
          "name": "stderr",
          "text": [
            "/usr/local/lib/python3.8/dist-packages/sklearn/linear_model/_logistic.py:814: ConvergenceWarning: lbfgs failed to converge (status=1):\n",
            "STOP: TOTAL NO. of ITERATIONS REACHED LIMIT.\n",
            "\n",
            "Increase the number of iterations (max_iter) or scale the data as shown in:\n",
            "    https://scikit-learn.org/stable/modules/preprocessing.html\n",
            "Please also refer to the documentation for alternative solver options:\n",
            "    https://scikit-learn.org/stable/modules/linear_model.html#logistic-regression\n",
            "  n_iter_i = _check_optimize_result(\n"
          ]
        },
        {
          "output_type": "execute_result",
          "data": {
            "text/plain": [
              "LogisticRegression()"
            ]
          },
          "metadata": {},
          "execution_count": 52
        }
      ]
    },
    {
      "cell_type": "code",
      "source": [
        "predictions = logmodel.predict(X_test)"
      ],
      "metadata": {
        "id": "axxc6mwALnQq"
      },
      "execution_count": null,
      "outputs": []
    },
    {
      "cell_type": "code",
      "source": [
        "print(classification_report(y_test,predictions))"
      ],
      "metadata": {
        "colab": {
          "base_uri": "https://localhost:8080/"
        },
        "id": "nrwqjPnvLpr4",
        "outputId": "f7c2d723-523d-400c-abb7-332f84d44278"
      },
      "execution_count": null,
      "outputs": [
        {
          "output_type": "stream",
          "name": "stdout",
          "text": [
            "              precision    recall  f1-score   support\n",
            "\n",
            "           0       0.00      0.00      0.00         4\n",
            "           1       0.71      1.00      0.83        10\n",
            "\n",
            "    accuracy                           0.71        14\n",
            "   macro avg       0.36      0.50      0.42        14\n",
            "weighted avg       0.51      0.71      0.60        14\n",
            "\n"
          ]
        },
        {
          "output_type": "stream",
          "name": "stderr",
          "text": [
            "/usr/local/lib/python3.8/dist-packages/sklearn/metrics/_classification.py:1318: UndefinedMetricWarning: Precision and F-score are ill-defined and being set to 0.0 in labels with no predicted samples. Use `zero_division` parameter to control this behavior.\n",
            "  _warn_prf(average, modifier, msg_start, len(result))\n",
            "/usr/local/lib/python3.8/dist-packages/sklearn/metrics/_classification.py:1318: UndefinedMetricWarning: Precision and F-score are ill-defined and being set to 0.0 in labels with no predicted samples. Use `zero_division` parameter to control this behavior.\n",
            "  _warn_prf(average, modifier, msg_start, len(result))\n",
            "/usr/local/lib/python3.8/dist-packages/sklearn/metrics/_classification.py:1318: UndefinedMetricWarning: Precision and F-score are ill-defined and being set to 0.0 in labels with no predicted samples. Use `zero_division` parameter to control this behavior.\n",
            "  _warn_prf(average, modifier, msg_start, len(result))\n"
          ]
        }
      ]
    },
    {
      "cell_type": "code",
      "source": [
        "accuracy_score(y_test, predictions)"
      ],
      "metadata": {
        "colab": {
          "base_uri": "https://localhost:8080/"
        },
        "id": "dUjxaUVyLrmO",
        "outputId": "6255816a-e0ea-463f-bb06-34aefd98877b"
      },
      "execution_count": null,
      "outputs": [
        {
          "output_type": "execute_result",
          "data": {
            "text/plain": [
              "0.7142857142857143"
            ]
          },
          "metadata": {},
          "execution_count": 55
        }
      ]
    },
    {
      "cell_type": "code",
      "source": [
        "logmodel.coef_"
      ],
      "metadata": {
        "colab": {
          "base_uri": "https://localhost:8080/"
        },
        "id": "AYRFT-sOPYKE",
        "outputId": "e28ea544-b6fd-40ec-9524-dd55c34041da"
      },
      "execution_count": null,
      "outputs": [
        {
          "output_type": "execute_result",
          "data": {
            "text/plain": [
              "array([[-0.26941563, -0.07539347,  0.54905824,  0.37593527, -0.89895687]])"
            ]
          },
          "metadata": {},
          "execution_count": 56
        }
      ]
    },
    {
      "cell_type": "markdown",
      "source": [
        "#Trial 5"
      ],
      "metadata": {
        "id": "jZUbJbE8MWD-"
      }
    },
    {
      "cell_type": "code",
      "source": [
        "X = past_provincial[['HS_Avg_Grade_imputed_based_on_school_loc',\n",
        "       'Is_Fam_Size_Below_Ave',\n",
        "       'School_Outside_Municipality_but_Within_Province',\n",
        "       'Both_Parent_Employed']]\n",
        "y = past_provincial['Graduated']"
      ],
      "metadata": {
        "id": "gHXie37BMWD-"
      },
      "execution_count": null,
      "outputs": []
    },
    {
      "cell_type": "code",
      "source": [
        "X_train, X_test, y_train, y_test = train_test_split(X, y, test_size=0.30, random_state =1)"
      ],
      "metadata": {
        "id": "iK0EikrBMWD_"
      },
      "execution_count": null,
      "outputs": []
    },
    {
      "cell_type": "code",
      "source": [
        "logmodel = LogisticRegression()\n",
        "logmodel.fit(X_train,y_train)"
      ],
      "metadata": {
        "colab": {
          "base_uri": "https://localhost:8080/"
        },
        "outputId": "4dfea4bb-8d37-4b43-b8e2-620c50b7aad0",
        "id": "RUDZSfm5MWD_"
      },
      "execution_count": null,
      "outputs": [
        {
          "output_type": "execute_result",
          "data": {
            "text/plain": [
              "LogisticRegression()"
            ]
          },
          "metadata": {},
          "execution_count": 59
        }
      ]
    },
    {
      "cell_type": "code",
      "source": [
        "predictions = logmodel.predict(X_test)"
      ],
      "metadata": {
        "id": "y4SO_G-RMWEA"
      },
      "execution_count": null,
      "outputs": []
    },
    {
      "cell_type": "code",
      "source": [
        "print(classification_report(y_test,predictions))"
      ],
      "metadata": {
        "colab": {
          "base_uri": "https://localhost:8080/"
        },
        "outputId": "5628ec34-28c7-4c1d-d518-4015391aa654",
        "id": "AOJSdVI1MWEA"
      },
      "execution_count": null,
      "outputs": [
        {
          "output_type": "stream",
          "name": "stdout",
          "text": [
            "              precision    recall  f1-score   support\n",
            "\n",
            "           0       0.00      0.00      0.00         4\n",
            "           1       0.71      1.00      0.83        10\n",
            "\n",
            "    accuracy                           0.71        14\n",
            "   macro avg       0.36      0.50      0.42        14\n",
            "weighted avg       0.51      0.71      0.60        14\n",
            "\n"
          ]
        },
        {
          "output_type": "stream",
          "name": "stderr",
          "text": [
            "/usr/local/lib/python3.8/dist-packages/sklearn/metrics/_classification.py:1318: UndefinedMetricWarning: Precision and F-score are ill-defined and being set to 0.0 in labels with no predicted samples. Use `zero_division` parameter to control this behavior.\n",
            "  _warn_prf(average, modifier, msg_start, len(result))\n",
            "/usr/local/lib/python3.8/dist-packages/sklearn/metrics/_classification.py:1318: UndefinedMetricWarning: Precision and F-score are ill-defined and being set to 0.0 in labels with no predicted samples. Use `zero_division` parameter to control this behavior.\n",
            "  _warn_prf(average, modifier, msg_start, len(result))\n",
            "/usr/local/lib/python3.8/dist-packages/sklearn/metrics/_classification.py:1318: UndefinedMetricWarning: Precision and F-score are ill-defined and being set to 0.0 in labels with no predicted samples. Use `zero_division` parameter to control this behavior.\n",
            "  _warn_prf(average, modifier, msg_start, len(result))\n"
          ]
        }
      ]
    },
    {
      "cell_type": "code",
      "source": [
        "accuracy_score(y_test, predictions)"
      ],
      "metadata": {
        "colab": {
          "base_uri": "https://localhost:8080/"
        },
        "outputId": "fc177204-fb10-4509-cf17-051c3f5deff2",
        "id": "GYgAMMgCMWEB"
      },
      "execution_count": null,
      "outputs": [
        {
          "output_type": "execute_result",
          "data": {
            "text/plain": [
              "0.7142857142857143"
            ]
          },
          "metadata": {},
          "execution_count": 62
        }
      ]
    },
    {
      "cell_type": "code",
      "source": [
        "confusion_matrix(y_test, predictions)"
      ],
      "metadata": {
        "colab": {
          "base_uri": "https://localhost:8080/"
        },
        "id": "om4Ms8YWTibd",
        "outputId": "46f45007-3d07-49f6-e0fc-8c7645304706"
      },
      "execution_count": null,
      "outputs": [
        {
          "output_type": "execute_result",
          "data": {
            "text/plain": [
              "array([[ 0,  4],\n",
              "       [ 0, 10]])"
            ]
          },
          "metadata": {},
          "execution_count": 63
        }
      ]
    },
    {
      "cell_type": "code",
      "source": [
        "logmodel.coef_"
      ],
      "metadata": {
        "colab": {
          "base_uri": "https://localhost:8080/"
        },
        "id": "wnI4O0R-PIVL",
        "outputId": "abd358f2-0e58-4a86-8076-ee4628fb74f3"
      },
      "execution_count": null,
      "outputs": [
        {
          "output_type": "execute_result",
          "data": {
            "text/plain": [
              "array([[-0.28058236, -0.07173595,  0.54329678, -0.93013182]])"
            ]
          },
          "metadata": {},
          "execution_count": 64
        }
      ]
    },
    {
      "cell_type": "code",
      "source": [
        "logmodel.predict_proba(X_test)[:,1]"
      ],
      "metadata": {
        "colab": {
          "base_uri": "https://localhost:8080/"
        },
        "id": "uXcXt7YmQ9CY",
        "outputId": "20b97ee6-056d-4e9d-fbd8-c5e304ec310b"
      },
      "execution_count": null,
      "outputs": [
        {
          "output_type": "execute_result",
          "data": {
            "text/plain": [
              "array([0.75864071, 0.90615544, 0.91375335, 0.78246804, 0.7677347 ,\n",
              "       0.61174135, 0.86822154, 0.66232686, 0.87227657, 0.95993935,\n",
              "       0.66232686, 0.8886072 , 0.92397681, 0.94522526])"
            ]
          },
          "metadata": {},
          "execution_count": 65
        }
      ]
    },
    {
      "cell_type": "code",
      "source": [
        "logmodel.classes_"
      ],
      "metadata": {
        "colab": {
          "base_uri": "https://localhost:8080/"
        },
        "id": "YkQb3iLYTJ1X",
        "outputId": "0c54d3ec-6cc6-44fd-8695-989b2a61ca23"
      },
      "execution_count": null,
      "outputs": [
        {
          "output_type": "execute_result",
          "data": {
            "text/plain": [
              "array([0, 1])"
            ]
          },
          "metadata": {},
          "execution_count": 66
        }
      ]
    }
  ]
}